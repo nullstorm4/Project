{
  "cells": [
    {
      "cell_type": "markdown",
      "metadata": {
        "id": "IJnBwmAhKyJs"
      },
      "source": [
        "# PROYECTO FINAL: NullStorm"
      ]
    },
    {
      "cell_type": "markdown",
      "source": [
        "## 1. MODELO OCR"
      ],
      "metadata": {
        "id": "mzc7C4-m6tm0"
      }
    },
    {
      "cell_type": "code",
      "source": [
        "from google.colab import files\n",
        "from google.cloud import bigquery\n",
        "import cv2\n",
        "import numpy as np\n",
        "import easyocr\n",
        "import matplotlib.pyplot as plt\n",
        "import re\n",
        "import random\n",
        "from datetime import datetime, timedelta"
      ],
      "metadata": {
        "id": "BkhCFKfU-C2h"
      },
      "execution_count": 1,
      "outputs": []
    },
    {
      "cell_type": "markdown",
      "source": [
        "## 1.1. Insertar la imagen de entrada"
      ],
      "metadata": {
        "id": "DeLxpqWcdmL8"
      }
    },
    {
      "cell_type": "code",
      "source": [
        "def insert_img():\n",
        "\n",
        "    print(\"Por favor, selecciona una imagen del vehículo:\")\n",
        "    uploaded = files.upload()\n",
        "\n",
        "    if not uploaded:\n",
        "        print(\"No se seleccionó ninguna imagen.\")\n",
        "        return\n",
        "\n",
        "    # Leer la imagen subida\n",
        "    image_path = next(iter(uploaded))\n",
        "    img = cv2.imread(image_path)\n",
        "    img_rgb = cv2.cvtColor(img, cv2.COLOR_BGR2RGB)\n",
        "    return img"
      ],
      "metadata": {
        "id": "2cz1G7POQl4N"
      },
      "execution_count": 2,
      "outputs": []
    },
    {
      "cell_type": "markdown",
      "source": [
        "## 1.2. Detección de la placa"
      ],
      "metadata": {
        "id": "ebJYeE6ldDZH"
      }
    },
    {
      "cell_type": "code",
      "source": [
        "def detectar_placa(img):\n",
        "    # Convertir la imagen a escala de grises\n",
        "    gray = cv2.cvtColor(img, cv2.COLOR_BGR2GRAY)\n",
        "    # Aplicar un filtro bilateral para reducir el ruido mientras se preservan los bordes\n",
        "    bfilter = cv2.bilateralFilter(gray, 11, 17, 17)\n",
        "    # Detectar bordes utilizando el algoritmo Canny\n",
        "    edged = cv2.Canny(bfilter, 30, 200)\n",
        "\n",
        "    # Encontrar contornos en la imagen\n",
        "    keypoints = cv2.findContours(edged.copy(), cv2.RETR_TREE, cv2.CHAIN_APPROX_SIMPLE)\n",
        "    contours = keypoints[0] if len(keypoints) == 2 else keypoints[1]\n",
        "    # Ordenar los contornos por área, de mayor a menor, y tomar los 10 más grandes\n",
        "    contours = sorted(contours, key=cv2.contourArea, reverse=True)[:10]\n",
        "\n",
        "    location = None\n",
        "    for contour in contours:\n",
        "        # Aproximar el contorno a un polígono\n",
        "        approx = cv2.approxPolyDP(contour, 10, True)\n",
        "        # Si el polígono tiene 4 vértices, asumimos que es la placa\n",
        "        if len(approx) == 4:\n",
        "            location = approx\n",
        "            break\n",
        "\n",
        "    if location is not None:\n",
        "        # Crear una máscara para aislar la región de la placa\n",
        "        mask = np.zeros(gray.shape, np.uint8)\n",
        "        new_image = cv2.drawContours(mask, [location], 0, 255, -1)\n",
        "        new_image = cv2.bitwise_and(img, img, mask=mask)\n",
        "\n",
        "        # Extraer la región de la placa\n",
        "        (x, y) = np.where(mask == 255)\n",
        "        (x1, y1) = (np.min(x), np.min(y))\n",
        "        (x2, y2) = (np.max(x), np.max(y))\n",
        "        placa_img = gray[x1:x2+1, y1:y2+1]\n",
        "\n",
        "        return placa_img\n",
        "\n",
        "    return None"
      ],
      "metadata": {
        "id": "gYmtDk8HK2ue"
      },
      "execution_count": 3,
      "outputs": []
    },
    {
      "cell_type": "markdown",
      "source": [
        "## 1.3. Reconocer la matrícula y limpiar el resultado"
      ],
      "metadata": {
        "id": "uCA58TeCdJA0"
      }
    },
    {
      "cell_type": "code",
      "source": [
        "def limpiar_placa(texto_placa):\n",
        "    placa_limpia = re.sub(r'[^A-Z0-9]', '', texto_placa.upper())\n",
        "    return placa_limpia"
      ],
      "metadata": {
        "id": "jHB7d8j1K4Z3"
      },
      "execution_count": 4,
      "outputs": []
    },
    {
      "cell_type": "code",
      "source": [
        "def reconocer_placa(placa_img):\n",
        "    # Inicializar el lector OCR para español\n",
        "    reader = easyocr.Reader(['es'])\n",
        "    # Realizar OCR en la imagen de la placa\n",
        "    result = reader.readtext(placa_img)\n",
        "    if result:\n",
        "        texto_crudo = result[0][-2]\n",
        "        # Devolver el texto limpio\n",
        "        texto_limpio = limpiar_placa(texto_crudo)\n",
        "        return texto_limpio\n",
        "    return None"
      ],
      "metadata": {
        "id": "wE8faEcj-G59"
      },
      "execution_count": 5,
      "outputs": []
    },
    {
      "cell_type": "code",
      "source": [
        "def detectar_placa_img(img):\n",
        "\n",
        "    placa_img = detectar_placa(img)\n",
        "    if placa_img is not None:\n",
        "        # Reconocer el texto de la placa\n",
        "        texto_placa = reconocer_placa(placa_img)\n",
        "        if texto_placa:\n",
        "            return texto_placa\n",
        "        else:\n",
        "            print(\"No se pudo reconocer el texto de la placa\")\n",
        "    else:\n",
        "        print(\"No se detectó ninguna placa en la imagen\")"
      ],
      "metadata": {
        "id": "fRi9BuL8S1bQ"
      },
      "execution_count": 12,
      "outputs": []
    },
    {
      "cell_type": "markdown",
      "source": [
        "## 1.4. Generar fecha ficticia para entrada y salida del vehículo"
      ],
      "metadata": {
        "id": "Luh03bPffc0C"
      }
    },
    {
      "cell_type": "code",
      "source": [
        "def generar_fecha_hora():\n",
        "    ahora = datetime.now()\n",
        "    delta = timedelta(days=random.randint(-30, 0), hours=random.randint(0, 23), minutes=random.randint(0, 59))\n",
        "    return ahora + delta"
      ],
      "metadata": {
        "id": "eyycl_Ljfc5w"
      },
      "execution_count": 7,
      "outputs": []
    },
    {
      "cell_type": "markdown",
      "source": [
        "## 1.5. Generar datos aleatorios para cada matrícula"
      ],
      "metadata": {
        "id": "jTorWAXkdTsH"
      }
    },
    {
      "cell_type": "code",
      "source": [
        "import random\n",
        "\n",
        "def genear_datos_random(matricula):\n",
        "\n",
        "    marcas_modelos = {\n",
        "        \"Toyota\": [\"Supra\", \"Celica\", \"Yaris\"],\n",
        "        \"Ford\": [\"GT\", \"Focus\", \"Mustang\"],\n",
        "        \"Honda\": [\"NSX\", \"Civic\", \"CR-V\"],\n",
        "        \"Nissan\": [\"GTR\", \"350z\", \"240sx\"],\n",
        "        \"Audi\": [\"RS7\", \"R8\", \"S5\"],\n",
        "        \"BMW\": [\"330e\", \"M4\", \"i8\"],\n",
        "        \"Mercedes\": [\"C63S\", \"GT\", \"A45\"],\n",
        "        \"Tesla\": [\"3\", \"Y\", \"X\"],\n",
        "        \"Porsche\": [\"911\", \"Cayman\", \"Taycan\"],\n",
        "\n",
        "    }\n",
        "    colores = [\"Rojo\", \"Azul\", \"Negro\", \"Blanco\", \"Gris\", \"Amarillo\", \"Verde\"]\n",
        "    tipos_vehiculo = [1, 2, 3]\n",
        "\n",
        "    fecha_entrada = generar_fecha_hora()\n",
        "    fecha_salida = fecha_entrada + timedelta(seconds=random.randint(0, 100000))\n",
        "\n",
        "    # Generar marca y modelo aleatorio\n",
        "    marca = random.choice(list(marcas_modelos.keys()))\n",
        "    modelo = random.choice(marcas_modelos[marca])\n",
        "\n",
        "    # Seleccionar color y tipo de vehículo aleatorio\n",
        "    color = random.choice(colores)\n",
        "    tipo_vehiculo_id = random.choice(tipos_vehiculo)\n",
        "\n",
        "    # Devolver datos generados\n",
        "    car_info = {\n",
        "        \"matricula_id\": matricula,\n",
        "        \"marca_ds\": marca,\n",
        "        \"modelo_ds\": modelo,\n",
        "        \"color_ds\": color,\n",
        "        \"tipo_vehiculo_id\": tipo_vehiculo_id,\n",
        "        \"camara_in_id\": fecha_entrada.strftime(\"%Y-%m-%d %H:%M:%S\"),\n",
        "        \"camara_out_id\": fecha_salida.strftime(\"%Y-%m-%d %H:%M:%S\")\n",
        "    }\n",
        "    return car_info"
      ],
      "metadata": {
        "id": "HsKlU1sBLBL9"
      },
      "execution_count": 8,
      "outputs": []
    },
    {
      "cell_type": "markdown",
      "source": [
        "## 1.6. Insertar los datos de la matrícula en la base de datos"
      ],
      "metadata": {
        "id": "HooWyNrYdfK7"
      }
    },
    {
      "cell_type": "code",
      "source": [
        "def insertar_matricula(car_info):\n",
        "\n",
        "    # Inicializar cliente BigQuery\n",
        "    client = bigquery.Client()\n",
        "\n",
        "    # Definir la tabla\n",
        "    table_id = \"aiparking-451016.00_aiparking.vehiculos\"\n",
        "\n",
        "    # Crear el diccionario con los datos\n",
        "    fila = {\n",
        "        \"matricula_id\": car_info[\"matricula_id\"],\n",
        "        \"marca_ds\": car_info[\"marca_ds\"],\n",
        "        \"modelo_ds\": car_info[\"modelo_ds\"],\n",
        "        \"color_ds\": car_info[\"color_ds\"],\n",
        "        \"tipo_vehiculo_id\": car_info[\"tipo_vehiculo_id\"],\n",
        "        \"camara_in_id\": car_info[\"camara_in_id\"],\n",
        "        \"camara_out_id\": car_info[\"camara_out_id\"]\n",
        "    }\n",
        "\n",
        "    # Insertar la fila\n",
        "    errores = client.insert_rows_json(table_id, [fila])\n",
        "\n",
        "    if errores == []:\n",
        "        print(\"Matrícula insertada correctamente.\")\n",
        "    else:\n",
        "        print(\"Errores al insertar:\", errores)"
      ],
      "metadata": {
        "id": "ntO_X_w2K_cQ"
      },
      "execution_count": 9,
      "outputs": []
    },
    {
      "cell_type": "markdown",
      "source": [
        "## PIPELINE"
      ],
      "metadata": {
        "id": "UnE545MpQaX-"
      }
    },
    {
      "cell_type": "code",
      "source": [
        "def main_OCR(img=None):\n",
        "\n",
        "    # 1. Insertar imagen\n",
        "    if img is None:\n",
        "      img = insert_img()\n",
        "\n",
        "    # 2. Detectar texto placa\n",
        "    matricula = detectar_placa_img(img)\n",
        "\n",
        "    # 3. Generar datos aleatorios\n",
        "    car_info = genear_datos_random(matricula)\n",
        "\n",
        "    # 4. Insertar datos en BigQuery\n",
        "    insertar_matricula(car_info)\n",
        "\n",
        "    return print(car_info)"
      ],
      "metadata": {
        "id": "1DkMCk7hQaeH"
      },
      "execution_count": 10,
      "outputs": []
    },
    {
      "cell_type": "code",
      "source": [
        "main_OCR()"
      ],
      "metadata": {
        "colab": {
          "base_uri": "https://localhost:8080/",
          "height": 145
        },
        "id": "0WWIS3-iVX8h",
        "outputId": "7367de84-7d79-4b5a-a6c7-2ead103aef23"
      },
      "execution_count": 13,
      "outputs": [
        {
          "output_type": "stream",
          "name": "stdout",
          "text": [
            "Por favor, selecciona una imagen del vehículo:\n"
          ]
        },
        {
          "output_type": "display_data",
          "data": {
            "text/plain": [
              "<IPython.core.display.HTML object>"
            ],
            "text/html": [
              "\n",
              "     <input type=\"file\" id=\"files-157991ed-fd35-4ead-8234-58e750545499\" name=\"files[]\" multiple disabled\n",
              "        style=\"border:none\" />\n",
              "     <output id=\"result-157991ed-fd35-4ead-8234-58e750545499\">\n",
              "      Upload widget is only available when the cell has been executed in the\n",
              "      current browser session. Please rerun this cell to enable.\n",
              "      </output>\n",
              "      <script>// Copyright 2017 Google LLC\n",
              "//\n",
              "// Licensed under the Apache License, Version 2.0 (the \"License\");\n",
              "// you may not use this file except in compliance with the License.\n",
              "// You may obtain a copy of the License at\n",
              "//\n",
              "//      http://www.apache.org/licenses/LICENSE-2.0\n",
              "//\n",
              "// Unless required by applicable law or agreed to in writing, software\n",
              "// distributed under the License is distributed on an \"AS IS\" BASIS,\n",
              "// WITHOUT WARRANTIES OR CONDITIONS OF ANY KIND, either express or implied.\n",
              "// See the License for the specific language governing permissions and\n",
              "// limitations under the License.\n",
              "\n",
              "/**\n",
              " * @fileoverview Helpers for google.colab Python module.\n",
              " */\n",
              "(function(scope) {\n",
              "function span(text, styleAttributes = {}) {\n",
              "  const element = document.createElement('span');\n",
              "  element.textContent = text;\n",
              "  for (const key of Object.keys(styleAttributes)) {\n",
              "    element.style[key] = styleAttributes[key];\n",
              "  }\n",
              "  return element;\n",
              "}\n",
              "\n",
              "// Max number of bytes which will be uploaded at a time.\n",
              "const MAX_PAYLOAD_SIZE = 100 * 1024;\n",
              "\n",
              "function _uploadFiles(inputId, outputId) {\n",
              "  const steps = uploadFilesStep(inputId, outputId);\n",
              "  const outputElement = document.getElementById(outputId);\n",
              "  // Cache steps on the outputElement to make it available for the next call\n",
              "  // to uploadFilesContinue from Python.\n",
              "  outputElement.steps = steps;\n",
              "\n",
              "  return _uploadFilesContinue(outputId);\n",
              "}\n",
              "\n",
              "// This is roughly an async generator (not supported in the browser yet),\n",
              "// where there are multiple asynchronous steps and the Python side is going\n",
              "// to poll for completion of each step.\n",
              "// This uses a Promise to block the python side on completion of each step,\n",
              "// then passes the result of the previous step as the input to the next step.\n",
              "function _uploadFilesContinue(outputId) {\n",
              "  const outputElement = document.getElementById(outputId);\n",
              "  const steps = outputElement.steps;\n",
              "\n",
              "  const next = steps.next(outputElement.lastPromiseValue);\n",
              "  return Promise.resolve(next.value.promise).then((value) => {\n",
              "    // Cache the last promise value to make it available to the next\n",
              "    // step of the generator.\n",
              "    outputElement.lastPromiseValue = value;\n",
              "    return next.value.response;\n",
              "  });\n",
              "}\n",
              "\n",
              "/**\n",
              " * Generator function which is called between each async step of the upload\n",
              " * process.\n",
              " * @param {string} inputId Element ID of the input file picker element.\n",
              " * @param {string} outputId Element ID of the output display.\n",
              " * @return {!Iterable<!Object>} Iterable of next steps.\n",
              " */\n",
              "function* uploadFilesStep(inputId, outputId) {\n",
              "  const inputElement = document.getElementById(inputId);\n",
              "  inputElement.disabled = false;\n",
              "\n",
              "  const outputElement = document.getElementById(outputId);\n",
              "  outputElement.innerHTML = '';\n",
              "\n",
              "  const pickedPromise = new Promise((resolve) => {\n",
              "    inputElement.addEventListener('change', (e) => {\n",
              "      resolve(e.target.files);\n",
              "    });\n",
              "  });\n",
              "\n",
              "  const cancel = document.createElement('button');\n",
              "  inputElement.parentElement.appendChild(cancel);\n",
              "  cancel.textContent = 'Cancel upload';\n",
              "  const cancelPromise = new Promise((resolve) => {\n",
              "    cancel.onclick = () => {\n",
              "      resolve(null);\n",
              "    };\n",
              "  });\n",
              "\n",
              "  // Wait for the user to pick the files.\n",
              "  const files = yield {\n",
              "    promise: Promise.race([pickedPromise, cancelPromise]),\n",
              "    response: {\n",
              "      action: 'starting',\n",
              "    }\n",
              "  };\n",
              "\n",
              "  cancel.remove();\n",
              "\n",
              "  // Disable the input element since further picks are not allowed.\n",
              "  inputElement.disabled = true;\n",
              "\n",
              "  if (!files) {\n",
              "    return {\n",
              "      response: {\n",
              "        action: 'complete',\n",
              "      }\n",
              "    };\n",
              "  }\n",
              "\n",
              "  for (const file of files) {\n",
              "    const li = document.createElement('li');\n",
              "    li.append(span(file.name, {fontWeight: 'bold'}));\n",
              "    li.append(span(\n",
              "        `(${file.type || 'n/a'}) - ${file.size} bytes, ` +\n",
              "        `last modified: ${\n",
              "            file.lastModifiedDate ? file.lastModifiedDate.toLocaleDateString() :\n",
              "                                    'n/a'} - `));\n",
              "    const percent = span('0% done');\n",
              "    li.appendChild(percent);\n",
              "\n",
              "    outputElement.appendChild(li);\n",
              "\n",
              "    const fileDataPromise = new Promise((resolve) => {\n",
              "      const reader = new FileReader();\n",
              "      reader.onload = (e) => {\n",
              "        resolve(e.target.result);\n",
              "      };\n",
              "      reader.readAsArrayBuffer(file);\n",
              "    });\n",
              "    // Wait for the data to be ready.\n",
              "    let fileData = yield {\n",
              "      promise: fileDataPromise,\n",
              "      response: {\n",
              "        action: 'continue',\n",
              "      }\n",
              "    };\n",
              "\n",
              "    // Use a chunked sending to avoid message size limits. See b/62115660.\n",
              "    let position = 0;\n",
              "    do {\n",
              "      const length = Math.min(fileData.byteLength - position, MAX_PAYLOAD_SIZE);\n",
              "      const chunk = new Uint8Array(fileData, position, length);\n",
              "      position += length;\n",
              "\n",
              "      const base64 = btoa(String.fromCharCode.apply(null, chunk));\n",
              "      yield {\n",
              "        response: {\n",
              "          action: 'append',\n",
              "          file: file.name,\n",
              "          data: base64,\n",
              "        },\n",
              "      };\n",
              "\n",
              "      let percentDone = fileData.byteLength === 0 ?\n",
              "          100 :\n",
              "          Math.round((position / fileData.byteLength) * 100);\n",
              "      percent.textContent = `${percentDone}% done`;\n",
              "\n",
              "    } while (position < fileData.byteLength);\n",
              "  }\n",
              "\n",
              "  // All done.\n",
              "  yield {\n",
              "    response: {\n",
              "      action: 'complete',\n",
              "    }\n",
              "  };\n",
              "}\n",
              "\n",
              "scope.google = scope.google || {};\n",
              "scope.google.colab = scope.google.colab || {};\n",
              "scope.google.colab._files = {\n",
              "  _uploadFiles,\n",
              "  _uploadFilesContinue,\n",
              "};\n",
              "})(self);\n",
              "</script> "
            ]
          },
          "metadata": {}
        },
        {
          "output_type": "stream",
          "name": "stdout",
          "text": [
            "Saving E1,CAM1,250210080944560,GC4532CB,9996.jpg to E1,CAM1,250210080944560,GC4532CB,9996 (12).jpg\n",
            "Errores al insertar: [{'index': 0, 'errors': [{'reason': 'invalid', 'location': 'camara_in_id', 'debugInfo': '', 'message': 'no such field: camara_in_id.'}]}]\n",
            "{'matricula_id': 'GC4532CB', 'marca_ds': 'Honda', 'modelo_ds': 'CR-V', 'color_ds': 'Azul', 'tipo_vehiculo_id': 1, 'camara_in_id': '2025-02-21 01:29:19', 'camara_out_id': '2025-02-21 11:41:57'}\n"
          ]
        }
      ]
    },
    {
      "cell_type": "markdown",
      "metadata": {
        "id": "D6YzKlgMPIQu"
      },
      "source": [
        "## 1. MODELO LLM"
      ]
    },
    {
      "cell_type": "code",
      "source": [
        "from openai import OpenAI\n",
        "import json\n",
        "import getpass\n",
        "\n",
        "api_key = getpass.getpass(\"Enter your OpenAI API Key:\")\n",
        "\n",
        "client_openai = OpenAI(api_key = api_key)"
      ],
      "metadata": {
        "colab": {
          "base_uri": "https://localhost:8080/"
        },
        "id": "9JOzmGLGeJ29",
        "outputId": "2f1d1a64-a7c0-4b38-e6b5-c1b99b2de9a1"
      },
      "execution_count": 14,
      "outputs": [
        {
          "name": "stdout",
          "output_type": "stream",
          "text": [
            "Enter your OpenAI API Key:··········\n"
          ]
        }
      ]
    },
    {
      "cell_type": "markdown",
      "source": [
        "### 1.1. Input del usuario"
      ],
      "metadata": {
        "id": "Xjap5IKWTMUR"
      }
    },
    {
      "cell_type": "code",
      "source": [
        "def user_input():\n",
        "    question = input(\"Escriba su consulta:\")\n",
        "    return question"
      ],
      "metadata": {
        "id": "0nSZw8TVSmOI"
      },
      "execution_count": 15,
      "outputs": []
    },
    {
      "cell_type": "markdown",
      "source": [
        "### 1.2. Prompt Engineering con ChatGPT"
      ],
      "metadata": {
        "id": "SnQM6AgJQSuv"
      }
    },
    {
      "cell_type": "code",
      "source": [
        "def input_format(question, model=\"gpt-3.5-turbo\", temperature=0):\n",
        "\n",
        "    prompt_template = \"\"\"\n",
        "Eres un experto de SQL para una base de datos de registro de vehiculos. Tu tarea es convertir una pregunta de lenguaje natural a una consulta SQL valida.\n",
        "\n",
        "## **ESTRUCTURA DE LA BASE DE DATOS**\n",
        "Nombre del proyecto: 'aiparking-451016'\n",
        "Nombre de la tabla: '00_aiparking.vehiculos'\n",
        "\n",
        "- matricula_id STRING\n",
        "- parking_id STRING\n",
        "- fecha_registro_dt DATETIME\n",
        "- camara_in_id STRING\n",
        "- camara_out_id STRING\n",
        "- tipo_vehiculo_id STRING\n",
        "- marca_ds STRING\n",
        "- modelo_ds STRING\n",
        "- color_ds STRING\n",
        "- tarifa_id STRING\n",
        "\n",
        "## **TAREA**\n",
        "Responde UNICAMENTE con la consulta en SQL.\n",
        "\n",
        "## **EJEMPLOS**\n",
        "Pregunta: \"Cual es el modelo del vehiculo con la matricula 5489 HEB?\"\n",
        "Respuesta: SELECT modelo_ds FROM `aiparking-451016.00_aiparking.vehiculos` WHERE matricula_id = '5489 HEB';\n",
        "\n",
        "Pregunta: \"Coches de color Gris, Blanco o Azul y que sean de tipo 1\"\n",
        "Respuesta: SELECT * FROM `aiparking-451016.00_aiparking.vehiculos` WHERE color_ds IN ('Gris', 'Blanco', 'Azul') AND tipo_vehiculo_id = '1';\n",
        "\n",
        "Pregunta: \"A qué hora entró el coche con matrícula 1234ABC el día de ayer?\"\n",
        "Respuesta: SELECT fecha_registro_dt FROM `aiparking-451016.00_aiparking.vehiculos` WHERE matricula_id = '1234ABC' AND DATE(fecha_registro_dt) = DATE_SUB(CURRENT_DATE(), INTERVAL 1 DAY);;\n",
        "\n",
        "## **NUEVA PREGUNTA DEL USUARIO:**\n",
        "\"{question}\"\n",
        "\n",
        "## **RESPUESTA EN SQL:**\n",
        "\"\"\"\n",
        "    prompt = prompt_template.format(question=question)\n",
        "    messages = [{\"role\": \"user\", \"content\": prompt}]\n",
        "    response = client_openai.chat.completions.create(\n",
        "        model=model,\n",
        "        messages=messages,\n",
        "        temperature=temperature,\n",
        "    )\n",
        "\n",
        "    sql_query = response.choices[0].message.content\n",
        "    return sql_query\n"
      ],
      "metadata": {
        "id": "7g6yUUy9IJI3"
      },
      "execution_count": 16,
      "outputs": []
    },
    {
      "cell_type": "markdown",
      "source": [
        "* Ejemplo 1"
      ],
      "metadata": {
        "id": "_pIEf542jcNk"
      }
    },
    {
      "cell_type": "code",
      "source": [
        "question_1 = \"qué coches con matrícula que acaba en L entraron al parking el día 25/01/2025 entre las 07:00am y las 09:30am?\""
      ],
      "metadata": {
        "id": "LdmzrVsJeKME"
      },
      "execution_count": 17,
      "outputs": []
    },
    {
      "cell_type": "code",
      "source": [
        "response_1 = input_format(question_1)\n",
        "print(response_1)"
      ],
      "metadata": {
        "colab": {
          "base_uri": "https://localhost:8080/"
        },
        "id": "6t6hIBnwhaMk",
        "outputId": "f9578f66-7b18-467c-d582-aa12972cb354"
      },
      "execution_count": 18,
      "outputs": [
        {
          "output_type": "stream",
          "name": "stdout",
          "text": [
            "SELECT * FROM `aiparking-451016.00_aiparking.vehiculos` \n",
            "WHERE matricula_id LIKE '%L' \n",
            "AND fecha_registro_dt BETWEEN '2025-01-25 07:00:00' AND '2025-01-25 09:30:00';\n"
          ]
        }
      ]
    },
    {
      "cell_type": "markdown",
      "source": [
        "### 1.3. Acceso a la Database de BigQuery"
      ],
      "metadata": {
        "id": "jYAFzzzPQNRm"
      }
    },
    {
      "cell_type": "code",
      "source": [
        "from google.colab import auth\n",
        "auth.authenticate_user()"
      ],
      "metadata": {
        "id": "dHCTSKfpQZ-R"
      },
      "execution_count": 19,
      "outputs": []
    },
    {
      "cell_type": "code",
      "source": [
        "from google.cloud import bigquery\n",
        "\n",
        "# Creamos un cliente de BigQuery\n",
        "client = bigquery.Client(project='aiparking-451016')"
      ],
      "metadata": {
        "id": "XEfjqrARQjJX"
      },
      "execution_count": 20,
      "outputs": []
    },
    {
      "cell_type": "code",
      "source": [
        "import pandas as pd\n",
        "\n",
        "def sql_ans(query):\n",
        "\n",
        "      # Consulta SQL\n",
        "      query_job = client.query(query)\n",
        "\n",
        "      results = query_job.result()\n",
        "\n",
        "      # Convertir los resultados a un DataFrame de Pandas\n",
        "      df = results.to_dataframe()\n",
        "\n",
        "      return df"
      ],
      "metadata": {
        "id": "SbiSQt3kQqZw"
      },
      "execution_count": 21,
      "outputs": []
    },
    {
      "cell_type": "markdown",
      "source": [
        "### 1.4. Pipeline"
      ],
      "metadata": {
        "id": "wSP13cXBRjww"
      }
    },
    {
      "cell_type": "code",
      "source": [
        "def main_LLM(question=None):\n",
        "\n",
        "    # 1. Pregunta del usuario\n",
        "    if question is None:\n",
        "      question = user_input()\n",
        "\n",
        "    # 2. Conversión lenguaje natural a SQL\n",
        "    query = input_format(question=question, model=\"gpt-3.5-turbo\", temperature=0)\n",
        "\n",
        "    # 3. Acceso al Database de BigQuery\n",
        "    answer = sql_ans(query)\n",
        "\n",
        "    # 6. Mostrar la salida\n",
        "    print(answer)\n",
        "\n",
        "    return answer"
      ],
      "metadata": {
        "id": "ln_02H6VRmvl"
      },
      "execution_count": 23,
      "outputs": []
    },
    {
      "cell_type": "code",
      "source": [
        "main_LLM()"
      ],
      "metadata": {
        "colab": {
          "base_uri": "https://localhost:8080/",
          "height": 181
        },
        "id": "00sRgVXamfKB",
        "outputId": "45df9244-5f7f-40da-89d3-9d5cf2f0a243"
      },
      "execution_count": 25,
      "outputs": [
        {
          "output_type": "stream",
          "name": "stdout",
          "text": [
            "Escriba su consulta:dime los coches de color azul, blanco o gris de tipo 1\n",
            "  matricula_id marca_ds modelo_ds color_ds tipo_vehiculo_id\n",
            "0      1234MNO                      Blanco                1\n",
            "1      0225KKL    Honda     Civic     Azul                1\n"
          ]
        },
        {
          "output_type": "execute_result",
          "data": {
            "text/plain": [
              "  matricula_id marca_ds modelo_ds color_ds tipo_vehiculo_id\n",
              "0      1234MNO                      Blanco                1\n",
              "1      0225KKL    Honda     Civic     Azul                1"
            ],
            "text/html": [
              "\n",
              "  <div id=\"df-7ee85684-863a-45e4-9696-036dbe7a0bae\" class=\"colab-df-container\">\n",
              "    <div>\n",
              "<style scoped>\n",
              "    .dataframe tbody tr th:only-of-type {\n",
              "        vertical-align: middle;\n",
              "    }\n",
              "\n",
              "    .dataframe tbody tr th {\n",
              "        vertical-align: top;\n",
              "    }\n",
              "\n",
              "    .dataframe thead th {\n",
              "        text-align: right;\n",
              "    }\n",
              "</style>\n",
              "<table border=\"1\" class=\"dataframe\">\n",
              "  <thead>\n",
              "    <tr style=\"text-align: right;\">\n",
              "      <th></th>\n",
              "      <th>matricula_id</th>\n",
              "      <th>marca_ds</th>\n",
              "      <th>modelo_ds</th>\n",
              "      <th>color_ds</th>\n",
              "      <th>tipo_vehiculo_id</th>\n",
              "    </tr>\n",
              "  </thead>\n",
              "  <tbody>\n",
              "    <tr>\n",
              "      <th>0</th>\n",
              "      <td>1234MNO</td>\n",
              "      <td></td>\n",
              "      <td></td>\n",
              "      <td>Blanco</td>\n",
              "      <td>1</td>\n",
              "    </tr>\n",
              "    <tr>\n",
              "      <th>1</th>\n",
              "      <td>0225KKL</td>\n",
              "      <td>Honda</td>\n",
              "      <td>Civic</td>\n",
              "      <td>Azul</td>\n",
              "      <td>1</td>\n",
              "    </tr>\n",
              "  </tbody>\n",
              "</table>\n",
              "</div>\n",
              "    <div class=\"colab-df-buttons\">\n",
              "\n",
              "  <div class=\"colab-df-container\">\n",
              "    <button class=\"colab-df-convert\" onclick=\"convertToInteractive('df-7ee85684-863a-45e4-9696-036dbe7a0bae')\"\n",
              "            title=\"Convert this dataframe to an interactive table.\"\n",
              "            style=\"display:none;\">\n",
              "\n",
              "  <svg xmlns=\"http://www.w3.org/2000/svg\" height=\"24px\" viewBox=\"0 -960 960 960\">\n",
              "    <path d=\"M120-120v-720h720v720H120Zm60-500h600v-160H180v160Zm220 220h160v-160H400v160Zm0 220h160v-160H400v160ZM180-400h160v-160H180v160Zm440 0h160v-160H620v160ZM180-180h160v-160H180v160Zm440 0h160v-160H620v160Z\"/>\n",
              "  </svg>\n",
              "    </button>\n",
              "\n",
              "  <style>\n",
              "    .colab-df-container {\n",
              "      display:flex;\n",
              "      gap: 12px;\n",
              "    }\n",
              "\n",
              "    .colab-df-convert {\n",
              "      background-color: #E8F0FE;\n",
              "      border: none;\n",
              "      border-radius: 50%;\n",
              "      cursor: pointer;\n",
              "      display: none;\n",
              "      fill: #1967D2;\n",
              "      height: 32px;\n",
              "      padding: 0 0 0 0;\n",
              "      width: 32px;\n",
              "    }\n",
              "\n",
              "    .colab-df-convert:hover {\n",
              "      background-color: #E2EBFA;\n",
              "      box-shadow: 0px 1px 2px rgba(60, 64, 67, 0.3), 0px 1px 3px 1px rgba(60, 64, 67, 0.15);\n",
              "      fill: #174EA6;\n",
              "    }\n",
              "\n",
              "    .colab-df-buttons div {\n",
              "      margin-bottom: 4px;\n",
              "    }\n",
              "\n",
              "    [theme=dark] .colab-df-convert {\n",
              "      background-color: #3B4455;\n",
              "      fill: #D2E3FC;\n",
              "    }\n",
              "\n",
              "    [theme=dark] .colab-df-convert:hover {\n",
              "      background-color: #434B5C;\n",
              "      box-shadow: 0px 1px 3px 1px rgba(0, 0, 0, 0.15);\n",
              "      filter: drop-shadow(0px 1px 2px rgba(0, 0, 0, 0.3));\n",
              "      fill: #FFFFFF;\n",
              "    }\n",
              "  </style>\n",
              "\n",
              "    <script>\n",
              "      const buttonEl =\n",
              "        document.querySelector('#df-7ee85684-863a-45e4-9696-036dbe7a0bae button.colab-df-convert');\n",
              "      buttonEl.style.display =\n",
              "        google.colab.kernel.accessAllowed ? 'block' : 'none';\n",
              "\n",
              "      async function convertToInteractive(key) {\n",
              "        const element = document.querySelector('#df-7ee85684-863a-45e4-9696-036dbe7a0bae');\n",
              "        const dataTable =\n",
              "          await google.colab.kernel.invokeFunction('convertToInteractive',\n",
              "                                                    [key], {});\n",
              "        if (!dataTable) return;\n",
              "\n",
              "        const docLinkHtml = 'Like what you see? Visit the ' +\n",
              "          '<a target=\"_blank\" href=https://colab.research.google.com/notebooks/data_table.ipynb>data table notebook</a>'\n",
              "          + ' to learn more about interactive tables.';\n",
              "        element.innerHTML = '';\n",
              "        dataTable['output_type'] = 'display_data';\n",
              "        await google.colab.output.renderOutput(dataTable, element);\n",
              "        const docLink = document.createElement('div');\n",
              "        docLink.innerHTML = docLinkHtml;\n",
              "        element.appendChild(docLink);\n",
              "      }\n",
              "    </script>\n",
              "  </div>\n",
              "\n",
              "\n",
              "<div id=\"df-9bc2495a-61a8-41ac-9608-f9e3acfe40ce\">\n",
              "  <button class=\"colab-df-quickchart\" onclick=\"quickchart('df-9bc2495a-61a8-41ac-9608-f9e3acfe40ce')\"\n",
              "            title=\"Suggest charts\"\n",
              "            style=\"display:none;\">\n",
              "\n",
              "<svg xmlns=\"http://www.w3.org/2000/svg\" height=\"24px\"viewBox=\"0 0 24 24\"\n",
              "     width=\"24px\">\n",
              "    <g>\n",
              "        <path d=\"M19 3H5c-1.1 0-2 .9-2 2v14c0 1.1.9 2 2 2h14c1.1 0 2-.9 2-2V5c0-1.1-.9-2-2-2zM9 17H7v-7h2v7zm4 0h-2V7h2v10zm4 0h-2v-4h2v4z\"/>\n",
              "    </g>\n",
              "</svg>\n",
              "  </button>\n",
              "\n",
              "<style>\n",
              "  .colab-df-quickchart {\n",
              "      --bg-color: #E8F0FE;\n",
              "      --fill-color: #1967D2;\n",
              "      --hover-bg-color: #E2EBFA;\n",
              "      --hover-fill-color: #174EA6;\n",
              "      --disabled-fill-color: #AAA;\n",
              "      --disabled-bg-color: #DDD;\n",
              "  }\n",
              "\n",
              "  [theme=dark] .colab-df-quickchart {\n",
              "      --bg-color: #3B4455;\n",
              "      --fill-color: #D2E3FC;\n",
              "      --hover-bg-color: #434B5C;\n",
              "      --hover-fill-color: #FFFFFF;\n",
              "      --disabled-bg-color: #3B4455;\n",
              "      --disabled-fill-color: #666;\n",
              "  }\n",
              "\n",
              "  .colab-df-quickchart {\n",
              "    background-color: var(--bg-color);\n",
              "    border: none;\n",
              "    border-radius: 50%;\n",
              "    cursor: pointer;\n",
              "    display: none;\n",
              "    fill: var(--fill-color);\n",
              "    height: 32px;\n",
              "    padding: 0;\n",
              "    width: 32px;\n",
              "  }\n",
              "\n",
              "  .colab-df-quickchart:hover {\n",
              "    background-color: var(--hover-bg-color);\n",
              "    box-shadow: 0 1px 2px rgba(60, 64, 67, 0.3), 0 1px 3px 1px rgba(60, 64, 67, 0.15);\n",
              "    fill: var(--button-hover-fill-color);\n",
              "  }\n",
              "\n",
              "  .colab-df-quickchart-complete:disabled,\n",
              "  .colab-df-quickchart-complete:disabled:hover {\n",
              "    background-color: var(--disabled-bg-color);\n",
              "    fill: var(--disabled-fill-color);\n",
              "    box-shadow: none;\n",
              "  }\n",
              "\n",
              "  .colab-df-spinner {\n",
              "    border: 2px solid var(--fill-color);\n",
              "    border-color: transparent;\n",
              "    border-bottom-color: var(--fill-color);\n",
              "    animation:\n",
              "      spin 1s steps(1) infinite;\n",
              "  }\n",
              "\n",
              "  @keyframes spin {\n",
              "    0% {\n",
              "      border-color: transparent;\n",
              "      border-bottom-color: var(--fill-color);\n",
              "      border-left-color: var(--fill-color);\n",
              "    }\n",
              "    20% {\n",
              "      border-color: transparent;\n",
              "      border-left-color: var(--fill-color);\n",
              "      border-top-color: var(--fill-color);\n",
              "    }\n",
              "    30% {\n",
              "      border-color: transparent;\n",
              "      border-left-color: var(--fill-color);\n",
              "      border-top-color: var(--fill-color);\n",
              "      border-right-color: var(--fill-color);\n",
              "    }\n",
              "    40% {\n",
              "      border-color: transparent;\n",
              "      border-right-color: var(--fill-color);\n",
              "      border-top-color: var(--fill-color);\n",
              "    }\n",
              "    60% {\n",
              "      border-color: transparent;\n",
              "      border-right-color: var(--fill-color);\n",
              "    }\n",
              "    80% {\n",
              "      border-color: transparent;\n",
              "      border-right-color: var(--fill-color);\n",
              "      border-bottom-color: var(--fill-color);\n",
              "    }\n",
              "    90% {\n",
              "      border-color: transparent;\n",
              "      border-bottom-color: var(--fill-color);\n",
              "    }\n",
              "  }\n",
              "</style>\n",
              "\n",
              "  <script>\n",
              "    async function quickchart(key) {\n",
              "      const quickchartButtonEl =\n",
              "        document.querySelector('#' + key + ' button');\n",
              "      quickchartButtonEl.disabled = true;  // To prevent multiple clicks.\n",
              "      quickchartButtonEl.classList.add('colab-df-spinner');\n",
              "      try {\n",
              "        const charts = await google.colab.kernel.invokeFunction(\n",
              "            'suggestCharts', [key], {});\n",
              "      } catch (error) {\n",
              "        console.error('Error during call to suggestCharts:', error);\n",
              "      }\n",
              "      quickchartButtonEl.classList.remove('colab-df-spinner');\n",
              "      quickchartButtonEl.classList.add('colab-df-quickchart-complete');\n",
              "    }\n",
              "    (() => {\n",
              "      let quickchartButtonEl =\n",
              "        document.querySelector('#df-9bc2495a-61a8-41ac-9608-f9e3acfe40ce button');\n",
              "      quickchartButtonEl.style.display =\n",
              "        google.colab.kernel.accessAllowed ? 'block' : 'none';\n",
              "    })();\n",
              "  </script>\n",
              "</div>\n",
              "\n",
              "    </div>\n",
              "  </div>\n"
            ],
            "application/vnd.google.colaboratory.intrinsic+json": {
              "type": "dataframe",
              "summary": "{\n  \"name\": \"main_LLM()\",\n  \"rows\": 2,\n  \"fields\": [\n    {\n      \"column\": \"matricula_id\",\n      \"properties\": {\n        \"dtype\": \"string\",\n        \"num_unique_values\": 2,\n        \"samples\": [\n          \"0225KKL\",\n          \"1234MNO\"\n        ],\n        \"semantic_type\": \"\",\n        \"description\": \"\"\n      }\n    },\n    {\n      \"column\": \"marca_ds\",\n      \"properties\": {\n        \"dtype\": \"string\",\n        \"num_unique_values\": 2,\n        \"samples\": [\n          \"Honda\",\n          \"\"\n        ],\n        \"semantic_type\": \"\",\n        \"description\": \"\"\n      }\n    },\n    {\n      \"column\": \"modelo_ds\",\n      \"properties\": {\n        \"dtype\": \"string\",\n        \"num_unique_values\": 2,\n        \"samples\": [\n          \"Civic\",\n          \"\"\n        ],\n        \"semantic_type\": \"\",\n        \"description\": \"\"\n      }\n    },\n    {\n      \"column\": \"color_ds\",\n      \"properties\": {\n        \"dtype\": \"string\",\n        \"num_unique_values\": 2,\n        \"samples\": [\n          \"Azul\",\n          \"Blanco\"\n        ],\n        \"semantic_type\": \"\",\n        \"description\": \"\"\n      }\n    },\n    {\n      \"column\": \"tipo_vehiculo_id\",\n      \"properties\": {\n        \"dtype\": \"string\",\n        \"num_unique_values\": 1,\n        \"samples\": [\n          \"1\"\n        ],\n        \"semantic_type\": \"\",\n        \"description\": \"\"\n      }\n    }\n  ]\n}"
            }
          },
          "metadata": {},
          "execution_count": 25
        }
      ]
    }
  ],
  "metadata": {
    "colab": {
      "provenance": [],
      "gpuType": "T4"
    },
    "kernelspec": {
      "display_name": "Python 3",
      "name": "python3"
    },
    "language_info": {
      "name": "python"
    },
    "accelerator": "GPU"
  },
  "nbformat": 4,
  "nbformat_minor": 0
}
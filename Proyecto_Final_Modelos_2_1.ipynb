{
  "cells": [
    {
      "cell_type": "markdown",
      "metadata": {
        "id": "IJnBwmAhKyJs"
      },
      "source": [
        "# PROYECTO FINAL: NullStorm"
      ]
    },
    {
      "cell_type": "markdown",
      "source": [
        "## 1. MODELO COMPUTER VISION"
      ],
      "metadata": {
        "id": "mzc7C4-m6tm0"
      }
    },
    {
      "cell_type": "markdown",
      "source": [
        "* Google Drive"
      ],
      "metadata": {
        "id": "GBaOlfvGT-md"
      }
    },
    {
      "cell_type": "code",
      "source": [
        "from google.colab import drive\n",
        "from google.colab import auth\n",
        "auth.authenticate_user()\n",
        "drive.mount('/content/drive')"
      ],
      "metadata": {
        "colab": {
          "base_uri": "https://localhost:8080/"
        },
        "id": "YiugAO4yTgk7",
        "outputId": "82b44d52-a9e3-4a02-edc1-c3faf49a6775"
      },
      "execution_count": 43,
      "outputs": [
        {
          "output_type": "stream",
          "name": "stdout",
          "text": [
            "Drive already mounted at /content/drive; to attempt to forcibly remount, call drive.mount(\"/content/drive\", force_remount=True).\n"
          ]
        }
      ]
    },
    {
      "cell_type": "code",
      "source": [
        "!pip install easyocr\n"
      ],
      "metadata": {
        "colab": {
          "base_uri": "https://localhost:8080/"
        },
        "id": "LKS1P6yLffDs",
        "outputId": "ce795586-4d8e-4e2d-f293-d741f951247d"
      },
      "execution_count": 44,
      "outputs": [
        {
          "output_type": "stream",
          "name": "stdout",
          "text": [
            "Requirement already satisfied: easyocr in /usr/local/lib/python3.11/dist-packages (1.7.2)\n",
            "Requirement already satisfied: torch in /usr/local/lib/python3.11/dist-packages (from easyocr) (2.5.1+cu124)\n",
            "Requirement already satisfied: torchvision>=0.5 in /usr/local/lib/python3.11/dist-packages (from easyocr) (0.20.1+cu124)\n",
            "Requirement already satisfied: opencv-python-headless in /usr/local/lib/python3.11/dist-packages (from easyocr) (4.10.0.84)\n",
            "Requirement already satisfied: scipy in /usr/local/lib/python3.11/dist-packages (from easyocr) (1.13.1)\n",
            "Requirement already satisfied: numpy in /usr/local/lib/python3.11/dist-packages (from easyocr) (1.26.4)\n",
            "Requirement already satisfied: Pillow in /usr/local/lib/python3.11/dist-packages (from easyocr) (11.1.0)\n",
            "Requirement already satisfied: scikit-image in /usr/local/lib/python3.11/dist-packages (from easyocr) (0.25.2)\n",
            "Requirement already satisfied: python-bidi in /usr/local/lib/python3.11/dist-packages (from easyocr) (0.6.6)\n",
            "Requirement already satisfied: PyYAML in /usr/local/lib/python3.11/dist-packages (from easyocr) (6.0.2)\n",
            "Requirement already satisfied: Shapely in /usr/local/lib/python3.11/dist-packages (from easyocr) (2.0.7)\n",
            "Requirement already satisfied: pyclipper in /usr/local/lib/python3.11/dist-packages (from easyocr) (1.3.0.post6)\n",
            "Requirement already satisfied: ninja in /usr/local/lib/python3.11/dist-packages (from easyocr) (1.11.1.3)\n",
            "Requirement already satisfied: filelock in /usr/local/lib/python3.11/dist-packages (from torch->easyocr) (3.17.0)\n",
            "Requirement already satisfied: typing-extensions>=4.8.0 in /usr/local/lib/python3.11/dist-packages (from torch->easyocr) (4.12.2)\n",
            "Requirement already satisfied: networkx in /usr/local/lib/python3.11/dist-packages (from torch->easyocr) (3.4.2)\n",
            "Requirement already satisfied: jinja2 in /usr/local/lib/python3.11/dist-packages (from torch->easyocr) (3.1.5)\n",
            "Requirement already satisfied: fsspec in /usr/local/lib/python3.11/dist-packages (from torch->easyocr) (2024.10.0)\n",
            "Requirement already satisfied: nvidia-cuda-nvrtc-cu12==12.4.127 in /usr/local/lib/python3.11/dist-packages (from torch->easyocr) (12.4.127)\n",
            "Requirement already satisfied: nvidia-cuda-runtime-cu12==12.4.127 in /usr/local/lib/python3.11/dist-packages (from torch->easyocr) (12.4.127)\n",
            "Requirement already satisfied: nvidia-cuda-cupti-cu12==12.4.127 in /usr/local/lib/python3.11/dist-packages (from torch->easyocr) (12.4.127)\n",
            "Requirement already satisfied: nvidia-cudnn-cu12==9.1.0.70 in /usr/local/lib/python3.11/dist-packages (from torch->easyocr) (9.1.0.70)\n",
            "Requirement already satisfied: nvidia-cublas-cu12==12.4.5.8 in /usr/local/lib/python3.11/dist-packages (from torch->easyocr) (12.4.5.8)\n",
            "Requirement already satisfied: nvidia-cufft-cu12==11.2.1.3 in /usr/local/lib/python3.11/dist-packages (from torch->easyocr) (11.2.1.3)\n",
            "Requirement already satisfied: nvidia-curand-cu12==10.3.5.147 in /usr/local/lib/python3.11/dist-packages (from torch->easyocr) (10.3.5.147)\n",
            "Requirement already satisfied: nvidia-cusolver-cu12==11.6.1.9 in /usr/local/lib/python3.11/dist-packages (from torch->easyocr) (11.6.1.9)\n",
            "Requirement already satisfied: nvidia-cusparse-cu12==12.3.1.170 in /usr/local/lib/python3.11/dist-packages (from torch->easyocr) (12.3.1.170)\n",
            "Requirement already satisfied: nvidia-nccl-cu12==2.21.5 in /usr/local/lib/python3.11/dist-packages (from torch->easyocr) (2.21.5)\n",
            "Requirement already satisfied: nvidia-nvtx-cu12==12.4.127 in /usr/local/lib/python3.11/dist-packages (from torch->easyocr) (12.4.127)\n",
            "Requirement already satisfied: nvidia-nvjitlink-cu12==12.4.127 in /usr/local/lib/python3.11/dist-packages (from torch->easyocr) (12.4.127)\n",
            "Requirement already satisfied: triton==3.1.0 in /usr/local/lib/python3.11/dist-packages (from torch->easyocr) (3.1.0)\n",
            "Requirement already satisfied: sympy==1.13.1 in /usr/local/lib/python3.11/dist-packages (from torch->easyocr) (1.13.1)\n",
            "Requirement already satisfied: mpmath<1.4,>=1.1.0 in /usr/local/lib/python3.11/dist-packages (from sympy==1.13.1->torch->easyocr) (1.3.0)\n",
            "Requirement already satisfied: imageio!=2.35.0,>=2.33 in /usr/local/lib/python3.11/dist-packages (from scikit-image->easyocr) (2.37.0)\n",
            "Requirement already satisfied: tifffile>=2022.8.12 in /usr/local/lib/python3.11/dist-packages (from scikit-image->easyocr) (2025.2.18)\n",
            "Requirement already satisfied: packaging>=21 in /usr/local/lib/python3.11/dist-packages (from scikit-image->easyocr) (24.2)\n",
            "Requirement already satisfied: lazy-loader>=0.4 in /usr/local/lib/python3.11/dist-packages (from scikit-image->easyocr) (0.4)\n",
            "Requirement already satisfied: MarkupSafe>=2.0 in /usr/local/lib/python3.11/dist-packages (from jinja2->torch->easyocr) (3.0.2)\n"
          ]
        }
      ]
    },
    {
      "cell_type": "markdown",
      "source": [
        "* Librerías necesarias"
      ],
      "metadata": {
        "id": "Ocm8bdEST6xh"
      }
    },
    {
      "cell_type": "code",
      "source": [
        "pip install yolov5\n"
      ],
      "metadata": {
        "colab": {
          "base_uri": "https://localhost:8080/"
        },
        "id": "ZoOJKZrMi_bE",
        "outputId": "810cea1b-3682-4a50-fa12-bc0a335f7ff2"
      },
      "execution_count": 45,
      "outputs": [
        {
          "output_type": "stream",
          "name": "stdout",
          "text": [
            "Requirement already satisfied: yolov5 in /usr/local/lib/python3.11/dist-packages (7.0.14)\n",
            "Requirement already satisfied: gitpython>=3.1.30 in /usr/local/lib/python3.11/dist-packages (from yolov5) (3.1.44)\n",
            "Requirement already satisfied: matplotlib>=3.3 in /usr/local/lib/python3.11/dist-packages (from yolov5) (3.10.0)\n",
            "Requirement already satisfied: numpy>=1.18.5 in /usr/local/lib/python3.11/dist-packages (from yolov5) (1.26.4)\n",
            "Requirement already satisfied: opencv-python>=4.1.1 in /usr/local/lib/python3.11/dist-packages (from yolov5) (4.10.0.84)\n",
            "Requirement already satisfied: Pillow>=7.1.2 in /usr/local/lib/python3.11/dist-packages (from yolov5) (11.1.0)\n",
            "Requirement already satisfied: psutil in /usr/local/lib/python3.11/dist-packages (from yolov5) (5.9.5)\n",
            "Requirement already satisfied: PyYAML>=5.3.1 in /usr/local/lib/python3.11/dist-packages (from yolov5) (6.0.2)\n",
            "Requirement already satisfied: requests>=2.23.0 in /usr/local/lib/python3.11/dist-packages (from yolov5) (2.32.3)\n",
            "Requirement already satisfied: scipy>=1.4.1 in /usr/local/lib/python3.11/dist-packages (from yolov5) (1.13.1)\n",
            "Requirement already satisfied: thop>=0.1.1 in /usr/local/lib/python3.11/dist-packages (from yolov5) (0.1.1.post2209072238)\n",
            "Requirement already satisfied: torch>=1.7.0 in /usr/local/lib/python3.11/dist-packages (from yolov5) (2.5.1+cu124)\n",
            "Requirement already satisfied: torchvision>=0.8.1 in /usr/local/lib/python3.11/dist-packages (from yolov5) (0.20.1+cu124)\n",
            "Requirement already satisfied: tqdm>=4.64.0 in /usr/local/lib/python3.11/dist-packages (from yolov5) (4.67.1)\n",
            "Requirement already satisfied: ultralytics>=8.0.100 in /usr/local/lib/python3.11/dist-packages (from yolov5) (8.3.78)\n",
            "Requirement already satisfied: tensorboard>=2.4.1 in /usr/local/lib/python3.11/dist-packages (from yolov5) (2.18.0)\n",
            "Requirement already satisfied: pandas>=1.1.4 in /usr/local/lib/python3.11/dist-packages (from yolov5) (2.2.2)\n",
            "Requirement already satisfied: seaborn>=0.11.0 in /usr/local/lib/python3.11/dist-packages (from yolov5) (0.13.2)\n",
            "Requirement already satisfied: setuptools>=65.5.1 in /usr/local/lib/python3.11/dist-packages (from yolov5) (75.1.0)\n",
            "Requirement already satisfied: fire in /usr/local/lib/python3.11/dist-packages (from yolov5) (0.7.0)\n",
            "Requirement already satisfied: boto3>=1.19.1 in /usr/local/lib/python3.11/dist-packages (from yolov5) (1.36.26)\n",
            "Requirement already satisfied: sahi>=0.11.10 in /usr/local/lib/python3.11/dist-packages (from yolov5) (0.11.20)\n",
            "Requirement already satisfied: huggingface-hub<0.25.0,>=0.12.0 in /usr/local/lib/python3.11/dist-packages (from yolov5) (0.24.7)\n",
            "Requirement already satisfied: roboflow>=0.2.29 in /usr/local/lib/python3.11/dist-packages (from yolov5) (1.1.54)\n",
            "Requirement already satisfied: botocore<1.37.0,>=1.36.26 in /usr/local/lib/python3.11/dist-packages (from boto3>=1.19.1->yolov5) (1.36.26)\n",
            "Requirement already satisfied: jmespath<2.0.0,>=0.7.1 in /usr/local/lib/python3.11/dist-packages (from boto3>=1.19.1->yolov5) (1.0.1)\n",
            "Requirement already satisfied: s3transfer<0.12.0,>=0.11.0 in /usr/local/lib/python3.11/dist-packages (from boto3>=1.19.1->yolov5) (0.11.2)\n",
            "Requirement already satisfied: gitdb<5,>=4.0.1 in /usr/local/lib/python3.11/dist-packages (from gitpython>=3.1.30->yolov5) (4.0.12)\n",
            "Requirement already satisfied: filelock in /usr/local/lib/python3.11/dist-packages (from huggingface-hub<0.25.0,>=0.12.0->yolov5) (3.17.0)\n",
            "Requirement already satisfied: fsspec>=2023.5.0 in /usr/local/lib/python3.11/dist-packages (from huggingface-hub<0.25.0,>=0.12.0->yolov5) (2024.10.0)\n",
            "Requirement already satisfied: packaging>=20.9 in /usr/local/lib/python3.11/dist-packages (from huggingface-hub<0.25.0,>=0.12.0->yolov5) (24.2)\n",
            "Requirement already satisfied: typing-extensions>=3.7.4.3 in /usr/local/lib/python3.11/dist-packages (from huggingface-hub<0.25.0,>=0.12.0->yolov5) (4.12.2)\n",
            "Requirement already satisfied: contourpy>=1.0.1 in /usr/local/lib/python3.11/dist-packages (from matplotlib>=3.3->yolov5) (1.3.1)\n",
            "Requirement already satisfied: cycler>=0.10 in /usr/local/lib/python3.11/dist-packages (from matplotlib>=3.3->yolov5) (0.12.1)\n",
            "Requirement already satisfied: fonttools>=4.22.0 in /usr/local/lib/python3.11/dist-packages (from matplotlib>=3.3->yolov5) (4.56.0)\n",
            "Requirement already satisfied: kiwisolver>=1.3.1 in /usr/local/lib/python3.11/dist-packages (from matplotlib>=3.3->yolov5) (1.4.8)\n",
            "Requirement already satisfied: pyparsing>=2.3.1 in /usr/local/lib/python3.11/dist-packages (from matplotlib>=3.3->yolov5) (3.2.1)\n",
            "Requirement already satisfied: python-dateutil>=2.7 in /usr/local/lib/python3.11/dist-packages (from matplotlib>=3.3->yolov5) (2.8.2)\n",
            "Requirement already satisfied: pytz>=2020.1 in /usr/local/lib/python3.11/dist-packages (from pandas>=1.1.4->yolov5) (2025.1)\n",
            "Requirement already satisfied: tzdata>=2022.7 in /usr/local/lib/python3.11/dist-packages (from pandas>=1.1.4->yolov5) (2025.1)\n",
            "Requirement already satisfied: charset-normalizer<4,>=2 in /usr/local/lib/python3.11/dist-packages (from requests>=2.23.0->yolov5) (3.4.1)\n",
            "Requirement already satisfied: idna<4,>=2.5 in /usr/local/lib/python3.11/dist-packages (from requests>=2.23.0->yolov5) (3.7)\n",
            "Requirement already satisfied: urllib3<3,>=1.21.1 in /usr/local/lib/python3.11/dist-packages (from requests>=2.23.0->yolov5) (2.3.0)\n",
            "Requirement already satisfied: certifi>=2017.4.17 in /usr/local/lib/python3.11/dist-packages (from requests>=2.23.0->yolov5) (2025.1.31)\n",
            "Requirement already satisfied: opencv-python-headless==4.10.0.84 in /usr/local/lib/python3.11/dist-packages (from roboflow>=0.2.29->yolov5) (4.10.0.84)\n",
            "Requirement already satisfied: python-dotenv in /usr/local/lib/python3.11/dist-packages (from roboflow>=0.2.29->yolov5) (1.0.1)\n",
            "Requirement already satisfied: six in /usr/local/lib/python3.11/dist-packages (from roboflow>=0.2.29->yolov5) (1.17.0)\n",
            "Requirement already satisfied: requests-toolbelt in /usr/local/lib/python3.11/dist-packages (from roboflow>=0.2.29->yolov5) (1.0.0)\n",
            "Requirement already satisfied: filetype in /usr/local/lib/python3.11/dist-packages (from roboflow>=0.2.29->yolov5) (1.2.0)\n",
            "Requirement already satisfied: shapely>=2.0.0 in /usr/local/lib/python3.11/dist-packages (from sahi>=0.11.10->yolov5) (2.0.7)\n",
            "Requirement already satisfied: pybboxes==0.1.6 in /usr/local/lib/python3.11/dist-packages (from sahi>=0.11.10->yolov5) (0.1.6)\n",
            "Requirement already satisfied: terminaltables in /usr/local/lib/python3.11/dist-packages (from sahi>=0.11.10->yolov5) (3.1.10)\n",
            "Requirement already satisfied: click in /usr/local/lib/python3.11/dist-packages (from sahi>=0.11.10->yolov5) (8.1.8)\n",
            "Requirement already satisfied: absl-py>=0.4 in /usr/local/lib/python3.11/dist-packages (from tensorboard>=2.4.1->yolov5) (1.4.0)\n",
            "Requirement already satisfied: grpcio>=1.48.2 in /usr/local/lib/python3.11/dist-packages (from tensorboard>=2.4.1->yolov5) (1.70.0)\n",
            "Requirement already satisfied: markdown>=2.6.8 in /usr/local/lib/python3.11/dist-packages (from tensorboard>=2.4.1->yolov5) (3.7)\n",
            "Requirement already satisfied: protobuf!=4.24.0,>=3.19.6 in /usr/local/lib/python3.11/dist-packages (from tensorboard>=2.4.1->yolov5) (4.25.6)\n",
            "Requirement already satisfied: tensorboard-data-server<0.8.0,>=0.7.0 in /usr/local/lib/python3.11/dist-packages (from tensorboard>=2.4.1->yolov5) (0.7.2)\n",
            "Requirement already satisfied: werkzeug>=1.0.1 in /usr/local/lib/python3.11/dist-packages (from tensorboard>=2.4.1->yolov5) (3.1.3)\n",
            "Requirement already satisfied: networkx in /usr/local/lib/python3.11/dist-packages (from torch>=1.7.0->yolov5) (3.4.2)\n",
            "Requirement already satisfied: jinja2 in /usr/local/lib/python3.11/dist-packages (from torch>=1.7.0->yolov5) (3.1.5)\n",
            "Requirement already satisfied: nvidia-cuda-nvrtc-cu12==12.4.127 in /usr/local/lib/python3.11/dist-packages (from torch>=1.7.0->yolov5) (12.4.127)\n",
            "Requirement already satisfied: nvidia-cuda-runtime-cu12==12.4.127 in /usr/local/lib/python3.11/dist-packages (from torch>=1.7.0->yolov5) (12.4.127)\n",
            "Requirement already satisfied: nvidia-cuda-cupti-cu12==12.4.127 in /usr/local/lib/python3.11/dist-packages (from torch>=1.7.0->yolov5) (12.4.127)\n",
            "Requirement already satisfied: nvidia-cudnn-cu12==9.1.0.70 in /usr/local/lib/python3.11/dist-packages (from torch>=1.7.0->yolov5) (9.1.0.70)\n",
            "Requirement already satisfied: nvidia-cublas-cu12==12.4.5.8 in /usr/local/lib/python3.11/dist-packages (from torch>=1.7.0->yolov5) (12.4.5.8)\n",
            "Requirement already satisfied: nvidia-cufft-cu12==11.2.1.3 in /usr/local/lib/python3.11/dist-packages (from torch>=1.7.0->yolov5) (11.2.1.3)\n",
            "Requirement already satisfied: nvidia-curand-cu12==10.3.5.147 in /usr/local/lib/python3.11/dist-packages (from torch>=1.7.0->yolov5) (10.3.5.147)\n",
            "Requirement already satisfied: nvidia-cusolver-cu12==11.6.1.9 in /usr/local/lib/python3.11/dist-packages (from torch>=1.7.0->yolov5) (11.6.1.9)\n",
            "Requirement already satisfied: nvidia-cusparse-cu12==12.3.1.170 in /usr/local/lib/python3.11/dist-packages (from torch>=1.7.0->yolov5) (12.3.1.170)\n",
            "Requirement already satisfied: nvidia-nccl-cu12==2.21.5 in /usr/local/lib/python3.11/dist-packages (from torch>=1.7.0->yolov5) (2.21.5)\n",
            "Requirement already satisfied: nvidia-nvtx-cu12==12.4.127 in /usr/local/lib/python3.11/dist-packages (from torch>=1.7.0->yolov5) (12.4.127)\n",
            "Requirement already satisfied: nvidia-nvjitlink-cu12==12.4.127 in /usr/local/lib/python3.11/dist-packages (from torch>=1.7.0->yolov5) (12.4.127)\n",
            "Requirement already satisfied: triton==3.1.0 in /usr/local/lib/python3.11/dist-packages (from torch>=1.7.0->yolov5) (3.1.0)\n",
            "Requirement already satisfied: sympy==1.13.1 in /usr/local/lib/python3.11/dist-packages (from torch>=1.7.0->yolov5) (1.13.1)\n",
            "Requirement already satisfied: mpmath<1.4,>=1.1.0 in /usr/local/lib/python3.11/dist-packages (from sympy==1.13.1->torch>=1.7.0->yolov5) (1.3.0)\n",
            "Requirement already satisfied: py-cpuinfo in /usr/local/lib/python3.11/dist-packages (from ultralytics>=8.0.100->yolov5) (9.0.0)\n",
            "Requirement already satisfied: ultralytics-thop>=2.0.0 in /usr/local/lib/python3.11/dist-packages (from ultralytics>=8.0.100->yolov5) (2.0.14)\n",
            "Requirement already satisfied: termcolor in /usr/local/lib/python3.11/dist-packages (from fire->yolov5) (2.5.0)\n",
            "Requirement already satisfied: smmap<6,>=3.0.1 in /usr/local/lib/python3.11/dist-packages (from gitdb<5,>=4.0.1->gitpython>=3.1.30->yolov5) (5.0.2)\n",
            "Requirement already satisfied: MarkupSafe>=2.1.1 in /usr/local/lib/python3.11/dist-packages (from werkzeug>=1.0.1->tensorboard>=2.4.1->yolov5) (3.0.2)\n"
          ]
        }
      ]
    },
    {
      "cell_type": "code",
      "source": [
        "from google.colab import files\n",
        "from google.cloud import bigquery\n",
        "import torch #Biblioteca para trabajar con modelos de aprendizaje profundo\n",
        "import cv2 # Biblioteca para procesamiento de imágenes y video\n",
        "import time # Para medir tiempos de ejecución\n",
        "import re # Biblioteca para trabajar con expresiones regulares\n",
        "import numpy as np # Biblioteca para cálculos numéricos\n",
        "import easyocr # Biblioteca OCR para reconocimiento de texto\n",
        "import os # Biblioteca para manejo de archivos y directorios\n",
        "from IPython.display import Image, display # Para mostrar imágenes en Jupyter Notebook\n",
        "import yolov5 # Biblioteca YOLOv5 para detección de objetos\n",
        "import matplotlib.pyplot as plt\n",
        "import re\n",
        "import random\n",
        "from datetime import datetime, timedelta"
      ],
      "metadata": {
        "id": "BkhCFKfU-C2h"
      },
      "execution_count": 46,
      "outputs": []
    },
    {
      "cell_type": "markdown",
      "source": [
        "## 1.1. Función para cargar la imagen"
      ],
      "metadata": {
        "id": "8H5ivQuCaYVS"
      }
    },
    {
      "cell_type": "code",
      "source": [
        "def img_load(img_path=None):\n",
        "\n",
        "    if img_path is None:\n",
        "        print(\"Por favor, selecciona una imagen del vehículo:\")\n",
        "        uploaded = files.upload()\n",
        "        image_path = next(iter(uploaded))\n",
        "        frame = cv2.imread(image_path)\n",
        "        # Convertir la imagen de BGR a RGB(Asegurar la compatibilidad entre las diferentes partes del pipeline de procesamiento de imágenes)\n",
        "        frame = cv2.cvtColor(frame, cv2.COLOR_BGR2RGB)\n",
        "        return frame\n",
        "\n",
        "    else:\n",
        "        frame = cv2.imread(img_path) # Lee la imagen\n",
        "        # Convertir la imagen de BGR a RGB(Asegurar la compatibilidad entre las diferentes partes del pipeline de procesamiento de imágenes)\n",
        "        frame = cv2.cvtColor(frame, cv2.COLOR_BGR2RGB)\n",
        "        return frame\n"
      ],
      "metadata": {
        "id": "2cz1G7POQl4N"
      },
      "execution_count": 47,
      "outputs": []
    },
    {
      "cell_type": "markdown",
      "source": [
        "## 1.2. Detección de objetos con YOLOv5"
      ],
      "metadata": {
        "id": "5cNx-CIBV6aP"
      }
    },
    {
      "cell_type": "markdown",
      "source": [
        "* Se cargan los modelos YOLOv5 para detección de vehículos y YOLOv5 para detección de matrículas."
      ],
      "metadata": {
        "id": "IxlQcCZXWO60"
      }
    },
    {
      "cell_type": "code",
      "source": [
        "vehicle_model = torch.hub.load('ultralytics/yolov5', 'yolov5s') # Modelo YOLOv5 para detección de vehículos\n"
      ],
      "metadata": {
        "colab": {
          "base_uri": "https://localhost:8080/"
        },
        "id": "GMla_2U8WbLI",
        "outputId": "86cb7f6c-6939-4901-d989-749144cbf142"
      },
      "execution_count": 48,
      "outputs": [
        {
          "output_type": "stream",
          "name": "stderr",
          "text": [
            "Using cache found in /root/.cache/torch/hub/ultralytics_yolov5_master\n",
            "YOLOv5 🚀 2025-2-22 Python-3.11.11 torch-2.5.1+cu124 CPU\n",
            "\n",
            "Fusing layers... \n",
            "YOLOv5s summary: 213 layers, 7225885 parameters, 0 gradients, 16.4 GFLOPs\n",
            "Adding AutoShape... \n"
          ]
        }
      ]
    },
    {
      "cell_type": "code",
      "source": [
        "#plate_model = torch.hub.load('keremberke/yolov5', 'yolov5m-license-plate') # Modelo YOLOv5 para detección de placas\n",
        "plate_model = yolov5.load('keremberke/yolov5m-license-plate')\n"
      ],
      "metadata": {
        "id": "6lQSAck1kjSE"
      },
      "execution_count": 49,
      "outputs": []
    },
    {
      "cell_type": "markdown",
      "source": [
        "* Función para la detección de objetos"
      ],
      "metadata": {
        "id": "EXqja7g9Wz6C"
      }
    },
    {
      "cell_type": "code",
      "source": [
        "def detectx(frame, model):\n",
        "    # Args: frame (Imagen en la que se realizarán las detecciones), model (Modelo YOLOv5 a utilizar)\n",
        "    results = model(frame)\n",
        "\n",
        "    # Convertir a lista y acceder a las detecciones\n",
        "    detections = results.xyxy[0]  # tensor con las detecciones\n",
        "\n",
        "    if len(detections) == 0:\n",
        "        return None\n",
        "\n",
        "    # Obtener las dimensiones de la imagen\n",
        "    height, width, _ = frame.shape\n",
        "    center_x, center_y = width / 2, height / 2  # Calcular el centro\n",
        "\n",
        "    # Inicializar variables para la mejor detección\n",
        "    closest_detection = None\n",
        "    closest_distance = float('inf')\n",
        "\n",
        "    # Iterar sobre las detecciones\n",
        "    for detection in detections.tolist():  # Convertir a lista para iterar\n",
        "        x1, y1, x2, y2, conf, cls = detection\n",
        "\n",
        "        # Calcular el centro de la caja delimitadora\n",
        "        box_center_x = (x1 + x2) / 2\n",
        "        box_center_y = (y1 + y2) / 2\n",
        "\n",
        "        # Calcular la distancia al centro de la imagen\n",
        "        distance = ((box_center_x - center_x) ** 2 + (box_center_y - center_y) ** 2) ** 0.5\n",
        "\n",
        "        # Verificar si esta detección es la más cercana\n",
        "        if distance < closest_distance:\n",
        "            closest_distance = distance\n",
        "            closest_detection = detection\n",
        "\n",
        "    # Devolver la detección más cercana al centro o None si no se encontró\n",
        "    return closest_detection if closest_detection is not None else None\n"
      ],
      "metadata": {
        "id": "psQFT9BeoSMc"
      },
      "execution_count": 51,
      "outputs": []
    },
    {
      "cell_type": "markdown",
      "source": [
        "* Función para devolver las coordenadas del objeto drawDetectedDiamonds"
      ],
      "metadata": {
        "id": "AUUu08SfT7ei"
      }
    },
    {
      "cell_type": "code",
      "source": [
        "def coords(closest_detection):\n",
        "\n",
        "    if closest_detection is None:\n",
        "        return None\n",
        "    x1, y1, x2, y2, conf, cls = closest_detection\n",
        "\n",
        "    # Filtrar por confianza\n",
        "    if conf >= 0.55:\n",
        "      coords = [int(x1), int(y1), int(x2), int(y2)]\n",
        "      return coords\n",
        "\n",
        "    return None"
      ],
      "metadata": {
        "id": "8zISrU1rT1oY"
      },
      "execution_count": 52,
      "outputs": []
    },
    {
      "cell_type": "markdown",
      "source": [
        "## 1.3. Funciones para limpiar el texto"
      ],
      "metadata": {
        "id": "91ez-_Kp5n53"
      }
    },
    {
      "cell_type": "markdown",
      "source": [
        "* Se crea una función para filtrar el texto reconocido comprobando que sólo tiene letras y números."
      ],
      "metadata": {
        "id": "Rcy7MAKYmkcz"
      }
    },
    {
      "cell_type": "code",
      "source": [
        "def filter_plate_text(plate_text): #plate_text: Texto detectado por OCR\n",
        "    #Args: plate_text(Texto detectado por OCR)\n",
        "    if isinstance(plate_text, list):  # Comprobar si plate_text es una lista\n",
        "        plate_text = ''.join(plate_text)  # Unir elementos de la lista en una sola cadena\n",
        "    # Usar una expresión regular para mantener solo letras y números\n",
        "    return re.sub(r'[^A-Za-z0-9]', '', plate_text)  # Texto filtrado con solo letras y números"
      ],
      "metadata": {
        "id": "0Tr1OYvcmkiU"
      },
      "execution_count": 53,
      "outputs": []
    },
    {
      "cell_type": "markdown",
      "source": [
        "* Se crea otra función para filtrar el texto basado en el tamaño de la región."
      ],
      "metadata": {
        "id": "9LYFqREt7L90"
      }
    },
    {
      "cell_type": "code",
      "source": [
        "def filter_text(region, ocr_result, region_threshold):\n",
        "    #Args: region(Imagen de la región de la placa), ocr_result(Resultado del OCR), region_threshold(Umbral para filtrar regiones de texto por tamaño)\n",
        "    rectangle_size = region.shape[0]*region.shape[1] #Calcula el área total de la región de la placa\n",
        "    plate = [] #lista vacía para almacenar el texto filtrado\n",
        "    print(ocr_result) # Imprime el resultado del OCR para depuración\n",
        "    for result in ocr_result: # Itera sobre cada resultado del OCR\n",
        "        length = np.sum(np.subtract(result[0][1], result[0][0])) #Calcula la longitud del texto detectado\n",
        "        height = np.sum(np.subtract(result[0][2], result[0][1])) #Calcula la altura del texto detectado\n",
        "        if length*height / rectangle_size > region_threshold: #Comprueba si el área del texto es mayor que el umbral proporcional\n",
        "            plate.append(result[1]) # Si supera el umbral, añade el texto a la lista\n",
        "    return plate #Lista de textos filtrados que superan el umbral de tamaño."
      ],
      "metadata": {
        "id": "iCg3nKAZ26AH"
      },
      "execution_count": 54,
      "outputs": []
    },
    {
      "cell_type": "markdown",
      "source": [
        "## 1.4. Reconocimiento de texto con EasyOCR"
      ],
      "metadata": {
        "id": "m_of8R2p1CgO"
      }
    },
    {
      "cell_type": "code",
      "source": [
        "def recognize_plate_easyocr(img, coords, reader, region_threshold):\n",
        "    #Args: img(Imagen original), coords(Coordenadas del cuadro delimitador), reader(Objeto EasyOCR), region_threshold(Umbral mínimo para considerar una región válida)\n",
        "    xmin, ymin, xmax, ymax = coords\n",
        "    nplate = img[int(ymin):int(ymax), int(xmin):int(xmax)] ## Recortar la región correspondiente a la placa\n",
        "    ocr_result = reader.readtext(nplate) ## Realizar OCR en la región recortada\n",
        "    text = filter_text(region=nplate, ocr_result=ocr_result, region_threshold=region_threshold)\n",
        "    if len(text) == 1:\n",
        "        text = text[0].upper()\n",
        "    return text #Texto reconocido en la región\n",
        "\n"
      ],
      "metadata": {
        "id": "O1zdDR9eV6gW"
      },
      "execution_count": 55,
      "outputs": []
    },
    {
      "cell_type": "markdown",
      "source": [
        "## 1.5. Extracción de la información del vehículo"
      ],
      "metadata": {
        "id": "64EWaeDSwzjx"
      }
    },
    {
      "cell_type": "code",
      "source": [
        "def vehicle_info(frame, vehicle_detection, plate_detection):\n",
        "    # Args: frame(Imagen original), vehicle_detection(Detecciones de vehículos), plate_detections(Detecciones de placas)\n",
        "    vehicle_classes = ['car', 'motorcycle']  # Clases de vehículos a considerar\n",
        "    extracted_info = {}  # Diccionario para almacenar información sobre vehículos detectados\n",
        "\n",
        "    # Diccionario de traducción de clases de vehículos\n",
        "    translation_dict = {\n",
        "        'car': 'coche',\n",
        "        'motorcycle': 'motocicleta'\n",
        "    }\n",
        "\n",
        "    # Función para traducir el tipo de vehículo\n",
        "    def translate_vehicle_class(cls_name):\n",
        "        return translation_dict.get(cls_name, cls_name)\n",
        "\n",
        "    # Procesar detecciones de vehículos\n",
        "    if vehicle_detection:\n",
        "        x1, y1, x2, y2, conf, cls = vehicle_detection\n",
        "        if conf >= 0.55 and vehicle_model.names[int(cls)] in vehicle_classes:\n",
        "            vehicle_type = translate_vehicle_class(vehicle_model.names[int(cls)])  # Traducir clase\n",
        "            extracted_info[\"vehicle_type\"] = vehicle_type  # Añadir tipo de vehículo traducido\n",
        "\n",
        "    # Procesar detecciones de placas\n",
        "    if plate_detection:\n",
        "        x1, y1, x2, y2, conf, cls = plate_detection  # Extraer datos de la detección\n",
        "        if conf >= 0.55:  # Filtrar por confianza mínima de la detección de la placa\n",
        "            coords = [int(x1), int(y1), int(x2), int(y2)]  # Coordenadas del cuadro delimitador\n",
        "            # Detectar el texto en la placa\n",
        "            plate_num = recognize_plate_easyocr(img=frame, coords=coords, reader=EASY_OCR, region_threshold=OCR_TH)\n",
        "            # Filtrar el texto de la placa\n",
        "            plate_num = filter_plate_text(plate_num)\n",
        "            # Añadir el número de matrícula a la información a extraer\n",
        "            extracted_info[\"plate\"] = plate_num\n",
        "\n",
        "    return extracted_info\n",
        "\n"
      ],
      "metadata": {
        "id": "zl5GDDbuqSO0"
      },
      "execution_count": 57,
      "outputs": []
    },
    {
      "cell_type": "markdown",
      "source": [
        "## 1.6. Generar fecha ficticia para entrada y salida del vehículo"
      ],
      "metadata": {
        "id": "Luh03bPffc0C"
      }
    },
    {
      "cell_type": "code",
      "source": [
        "def generar_fecha_hora():\n",
        "    ahora = datetime.now()\n",
        "    delta = timedelta(days=random.randint(-30, 0), hours=random.randint(9, 19), minutes=random.randint(0, 59))\n",
        "    return ahora + delta"
      ],
      "metadata": {
        "id": "VjFcT7pYrD-U"
      },
      "execution_count": 59,
      "outputs": []
    },
    {
      "cell_type": "markdown",
      "source": [
        "## 1.7. Generar datos aleatorios para cada matrícula"
      ],
      "metadata": {
        "id": "jTorWAXkdTsH"
      }
    },
    {
      "cell_type": "code",
      "source": [
        "import random\n",
        "from datetime import timedelta, datetime\n",
        "\n",
        "def generar_fecha_hora():\n",
        "    return datetime.now()\n",
        "\n",
        "def generar_datos_random(matricula):\n",
        "    marcas_modelos = {\n",
        "        \"Toyota\": [\"Supra\", \"Celica\", \"Yaris\"],\n",
        "        \"Ford\": [\"GT\", \"Focus\", \"Mustang\"],\n",
        "        \"Honda\": [\"NSX\", \"Civic\", \"CR-V\"],\n",
        "        \"Nissan\": [\"GTR\", \"350z\", \"240sx\"],\n",
        "        \"Audi\": [\"RS7\", \"R8\", \"S5\"],\n",
        "        \"BMW\": [\"330e\", \"M4\", \"i8\"],\n",
        "        \"Mercedes\": [\"C63S\", \"GT\", \"A45\"],\n",
        "        \"Tesla\": [\"3\", \"Y\", \"X\"],\n",
        "        \"Porsche\": [\"911\", \"Cayman\", \"Taycan\"],\n",
        "    }\n",
        "    colores = [\"Rojo\", \"Azul\", \"Negro\", \"Blanco\", \"Gris\", \"Amarillo\", \"Verde\"]\n",
        "    tarifas = [\"tarifa_001\", \"tarifa_002\", \"tarifa_005\"]\n",
        "\n",
        "    parking_camaras = {\n",
        "        \"parking_001\": (\"camara_in_001\", \"camara_out_001\"),\n",
        "        \"parking_002\": (\"camara_in_002\", \"camara_out_002\"),\n",
        "        \"parking_005\": (\"camara_in_005\", \"camara_out_005\"),\n",
        "    }\n",
        "\n",
        "    fecha_entrada = generar_fecha_hora()\n",
        "    fecha_salida = fecha_entrada + timedelta(seconds=random.randint(0, 100000))\n",
        "\n",
        "    parking_id = random.choice(list(parking_camaras.keys()))\n",
        "    camara_in_id, camara_out_id = parking_camaras[parking_id]\n",
        "\n",
        "    camara_seleccionada = {\"camara_in_id\": \"\", \"camara_out_id\": \"\"}\n",
        "    if random.choice([True, False]):\n",
        "        camara_seleccionada[\"camara_in_id\"] = camara_in_id\n",
        "    else:\n",
        "        camara_seleccionada[\"camara_out_id\"] = camara_out_id\n",
        "\n",
        "    marca = random.choice(list(marcas_modelos.keys()))\n",
        "    modelo = random.choice(marcas_modelos[marca])\n",
        "    color = random.choice(colores)\n",
        "    tarifa_id = random.choice(tarifas)\n",
        "\n",
        "    car_info = {\n",
        "        \"matricula_id\": matricula['matricula_id'],\n",
        "        \"parking_id\": parking_id,\n",
        "        \"fecha_registro_dt\": fecha_entrada.strftime(\"%Y-%m-%d %H:%M:%S\"),\n",
        "        \"tarifa_id\": tarifa_id,\n",
        "        \"marca_ds\": marca,\n",
        "        \"modelo_ds\": modelo,\n",
        "        \"color_ds\": color,\n",
        "        \"tipo_vehiculo_id\": \"1\",\n",
        "        **camara_seleccionada\n",
        "    }\n",
        "    return car_info\n"
      ],
      "metadata": {
        "id": "iWEKZbGbspMM"
      },
      "execution_count": 72,
      "outputs": []
    },
    {
      "cell_type": "markdown",
      "source": [
        "## 1.8. Insertar los datos de la matrícula en la base de datos"
      ],
      "metadata": {
        "id": "HooWyNrYdfK7"
      }
    },
    {
      "cell_type": "code",
      "source": [
        "\n",
        "def insertar_matricula(car_info):\n",
        "\n",
        "    # Inicializar cliente BigQuery\n",
        "    client = bigquery.Client()\n",
        "\n",
        "    # Definir la tabla\n",
        "    table_id = \"aiparking-451016.00_aiparking.accesos\"\n",
        "\n",
        "    # Crear el diccionario con los datos\n",
        "    fila = {\n",
        "        \"matricula_id\": car_info[\"matricula_id\"],\n",
        "        \"parking_id\": car_info[\"parking_id\"],\n",
        "        \"fecha_registro_dt\": car_info[\"fecha_registro_dt\"],\n",
        "        \"camara_in_id\": car_info[\"camara_in_id\"],\n",
        "        \"camara_out_id\": car_info[\"camara_out_id\"],\n",
        "        \"tarifa_id\": car_info[\"tarifa_id\"],\n",
        "        \"marca_ds\": car_info[\"marca_ds\"],\n",
        "        \"modelo_ds\": car_info[\"modelo_ds\"],\n",
        "        \"color_ds\": car_info[\"color_ds\"],\n",
        "        \"tipo_vehiculo_id\": \"1\"\n",
        "    }\n",
        "\n",
        "    # Insertar la fila\n",
        "    errores = client.insert_rows_json(table_id, [fila])\n",
        "\n",
        "    if errores == []:\n",
        "        print(\"Matrícula insertada correctamente.\")\n",
        "    else:\n",
        "        print(\"Errores al insertar:\", errores)"
      ],
      "metadata": {
        "id": "ntO_X_w2K_cQ"
      },
      "execution_count": 73,
      "outputs": []
    },
    {
      "cell_type": "markdown",
      "source": [
        "## 1.9. PIPELINE COMPUTER VISION MODEL"
      ],
      "metadata": {
        "id": "hvwBtHGv3kOy"
      }
    },
    {
      "cell_type": "code",
      "source": [
        "EASY_OCR = easyocr.Reader(['en']) # Inicializar EasyOCR para idioma inglés\n",
        "OCR_TH = 0.2 # Umbral de confianza para el OCR"
      ],
      "metadata": {
        "colab": {
          "base_uri": "https://localhost:8080/"
        },
        "id": "qgKN700OBAcf",
        "outputId": "4eb7b7ba-8cb1-4261-9bd5-30d30b345a07"
      },
      "execution_count": 74,
      "outputs": [
        {
          "output_type": "stream",
          "name": "stderr",
          "text": [
            "WARNING:easyocr.easyocr:Neither CUDA nor MPS are available - defaulting to CPU. Note: This module is much faster with a GPU.\n"
          ]
        }
      ]
    },
    {
      "cell_type": "code",
      "source": [
        "def main_CV(img_path=None):\n",
        "\n",
        "      # Cargamos la imagen\n",
        "      frame = img_load(img_path)\n",
        "\n",
        "      # Detección del vehículo con YOLOv5\n",
        "      vehicle_detection = detectx(frame, model=vehicle_model) #Realiza la detección de vehículo\n",
        "      print(\"Vehicle detection:\", vehicle_detection)\n",
        "\n",
        "      # Selección de coordenadas del vehículo\n",
        "      coords_vehicle = coords(vehicle_detection)\n",
        "\n",
        "      # Detección de la matrícula con YOLOv5\n",
        "      plate_detection = detectx(frame, model=plate_model) #Realiza la detección de placas\n",
        "      print(\"Plate detection:\", plate_detection)\n",
        "\n",
        "      # Selección de coordenadas del vehículo\n",
        "      coords_plate = coords(plate_detection)\n",
        "\n",
        "      # Reconocimiento de texto con EasyOCR\n",
        "      if coords_plate:\n",
        "        text = recognize_plate_easyocr(img=frame, coords=coords_plate, reader=EASY_OCR, region_threshold=OCR_TH)\n",
        "      else:\n",
        "        text = None\n",
        "\n",
        "      # Extracción de la información del vehículo\n",
        "      plate_info = vehicle_info(frame, vehicle_detection, plate_detection)\n",
        "\n",
        "      # Convertimos formato\n",
        "      plate = {'matricula_id': plate_info['plate']}\n",
        "      print(\"plate\")\n",
        "\n",
        "      # Generar datos aleatorios para cada vehículo\n",
        "      info = generar_datos_random(plate)\n",
        "\n",
        "      # Insertar los datos del vehículo en la base de datos\n",
        "      insertar_matricula(info)\n",
        "\n",
        "      return print(info)\n"
      ],
      "metadata": {
        "id": "TOOsFWe63jS3"
      },
      "execution_count": 75,
      "outputs": []
    },
    {
      "cell_type": "code",
      "source": [
        "info2 = main_CV()"
      ],
      "metadata": {
        "colab": {
          "base_uri": "https://localhost:8080/",
          "height": 301
        },
        "id": "K4z7tkU_uk_n",
        "outputId": "312bf8bb-5820-413b-e0ce-885ecd6db2d9"
      },
      "execution_count": 76,
      "outputs": [
        {
          "output_type": "stream",
          "name": "stdout",
          "text": [
            "Por favor, selecciona una imagen del vehículo:\n"
          ]
        },
        {
          "output_type": "display_data",
          "data": {
            "text/plain": [
              "<IPython.core.display.HTML object>"
            ],
            "text/html": [
              "\n",
              "     <input type=\"file\" id=\"files-65736c20-66b1-4af7-b0a7-05753a8c866e\" name=\"files[]\" multiple disabled\n",
              "        style=\"border:none\" />\n",
              "     <output id=\"result-65736c20-66b1-4af7-b0a7-05753a8c866e\">\n",
              "      Upload widget is only available when the cell has been executed in the\n",
              "      current browser session. Please rerun this cell to enable.\n",
              "      </output>\n",
              "      <script>// Copyright 2017 Google LLC\n",
              "//\n",
              "// Licensed under the Apache License, Version 2.0 (the \"License\");\n",
              "// you may not use this file except in compliance with the License.\n",
              "// You may obtain a copy of the License at\n",
              "//\n",
              "//      http://www.apache.org/licenses/LICENSE-2.0\n",
              "//\n",
              "// Unless required by applicable law or agreed to in writing, software\n",
              "// distributed under the License is distributed on an \"AS IS\" BASIS,\n",
              "// WITHOUT WARRANTIES OR CONDITIONS OF ANY KIND, either express or implied.\n",
              "// See the License for the specific language governing permissions and\n",
              "// limitations under the License.\n",
              "\n",
              "/**\n",
              " * @fileoverview Helpers for google.colab Python module.\n",
              " */\n",
              "(function(scope) {\n",
              "function span(text, styleAttributes = {}) {\n",
              "  const element = document.createElement('span');\n",
              "  element.textContent = text;\n",
              "  for (const key of Object.keys(styleAttributes)) {\n",
              "    element.style[key] = styleAttributes[key];\n",
              "  }\n",
              "  return element;\n",
              "}\n",
              "\n",
              "// Max number of bytes which will be uploaded at a time.\n",
              "const MAX_PAYLOAD_SIZE = 100 * 1024;\n",
              "\n",
              "function _uploadFiles(inputId, outputId) {\n",
              "  const steps = uploadFilesStep(inputId, outputId);\n",
              "  const outputElement = document.getElementById(outputId);\n",
              "  // Cache steps on the outputElement to make it available for the next call\n",
              "  // to uploadFilesContinue from Python.\n",
              "  outputElement.steps = steps;\n",
              "\n",
              "  return _uploadFilesContinue(outputId);\n",
              "}\n",
              "\n",
              "// This is roughly an async generator (not supported in the browser yet),\n",
              "// where there are multiple asynchronous steps and the Python side is going\n",
              "// to poll for completion of each step.\n",
              "// This uses a Promise to block the python side on completion of each step,\n",
              "// then passes the result of the previous step as the input to the next step.\n",
              "function _uploadFilesContinue(outputId) {\n",
              "  const outputElement = document.getElementById(outputId);\n",
              "  const steps = outputElement.steps;\n",
              "\n",
              "  const next = steps.next(outputElement.lastPromiseValue);\n",
              "  return Promise.resolve(next.value.promise).then((value) => {\n",
              "    // Cache the last promise value to make it available to the next\n",
              "    // step of the generator.\n",
              "    outputElement.lastPromiseValue = value;\n",
              "    return next.value.response;\n",
              "  });\n",
              "}\n",
              "\n",
              "/**\n",
              " * Generator function which is called between each async step of the upload\n",
              " * process.\n",
              " * @param {string} inputId Element ID of the input file picker element.\n",
              " * @param {string} outputId Element ID of the output display.\n",
              " * @return {!Iterable<!Object>} Iterable of next steps.\n",
              " */\n",
              "function* uploadFilesStep(inputId, outputId) {\n",
              "  const inputElement = document.getElementById(inputId);\n",
              "  inputElement.disabled = false;\n",
              "\n",
              "  const outputElement = document.getElementById(outputId);\n",
              "  outputElement.innerHTML = '';\n",
              "\n",
              "  const pickedPromise = new Promise((resolve) => {\n",
              "    inputElement.addEventListener('change', (e) => {\n",
              "      resolve(e.target.files);\n",
              "    });\n",
              "  });\n",
              "\n",
              "  const cancel = document.createElement('button');\n",
              "  inputElement.parentElement.appendChild(cancel);\n",
              "  cancel.textContent = 'Cancel upload';\n",
              "  const cancelPromise = new Promise((resolve) => {\n",
              "    cancel.onclick = () => {\n",
              "      resolve(null);\n",
              "    };\n",
              "  });\n",
              "\n",
              "  // Wait for the user to pick the files.\n",
              "  const files = yield {\n",
              "    promise: Promise.race([pickedPromise, cancelPromise]),\n",
              "    response: {\n",
              "      action: 'starting',\n",
              "    }\n",
              "  };\n",
              "\n",
              "  cancel.remove();\n",
              "\n",
              "  // Disable the input element since further picks are not allowed.\n",
              "  inputElement.disabled = true;\n",
              "\n",
              "  if (!files) {\n",
              "    return {\n",
              "      response: {\n",
              "        action: 'complete',\n",
              "      }\n",
              "    };\n",
              "  }\n",
              "\n",
              "  for (const file of files) {\n",
              "    const li = document.createElement('li');\n",
              "    li.append(span(file.name, {fontWeight: 'bold'}));\n",
              "    li.append(span(\n",
              "        `(${file.type || 'n/a'}) - ${file.size} bytes, ` +\n",
              "        `last modified: ${\n",
              "            file.lastModifiedDate ? file.lastModifiedDate.toLocaleDateString() :\n",
              "                                    'n/a'} - `));\n",
              "    const percent = span('0% done');\n",
              "    li.appendChild(percent);\n",
              "\n",
              "    outputElement.appendChild(li);\n",
              "\n",
              "    const fileDataPromise = new Promise((resolve) => {\n",
              "      const reader = new FileReader();\n",
              "      reader.onload = (e) => {\n",
              "        resolve(e.target.result);\n",
              "      };\n",
              "      reader.readAsArrayBuffer(file);\n",
              "    });\n",
              "    // Wait for the data to be ready.\n",
              "    let fileData = yield {\n",
              "      promise: fileDataPromise,\n",
              "      response: {\n",
              "        action: 'continue',\n",
              "      }\n",
              "    };\n",
              "\n",
              "    // Use a chunked sending to avoid message size limits. See b/62115660.\n",
              "    let position = 0;\n",
              "    do {\n",
              "      const length = Math.min(fileData.byteLength - position, MAX_PAYLOAD_SIZE);\n",
              "      const chunk = new Uint8Array(fileData, position, length);\n",
              "      position += length;\n",
              "\n",
              "      const base64 = btoa(String.fromCharCode.apply(null, chunk));\n",
              "      yield {\n",
              "        response: {\n",
              "          action: 'append',\n",
              "          file: file.name,\n",
              "          data: base64,\n",
              "        },\n",
              "      };\n",
              "\n",
              "      let percentDone = fileData.byteLength === 0 ?\n",
              "          100 :\n",
              "          Math.round((position / fileData.byteLength) * 100);\n",
              "      percent.textContent = `${percentDone}% done`;\n",
              "\n",
              "    } while (position < fileData.byteLength);\n",
              "  }\n",
              "\n",
              "  // All done.\n",
              "  yield {\n",
              "    response: {\n",
              "      action: 'complete',\n",
              "    }\n",
              "  };\n",
              "}\n",
              "\n",
              "scope.google = scope.google || {};\n",
              "scope.google.colab = scope.google.colab || {};\n",
              "scope.google.colab._files = {\n",
              "  _uploadFiles,\n",
              "  _uploadFilesContinue,\n",
              "};\n",
              "})(self);\n",
              "</script> "
            ]
          },
          "metadata": {}
        },
        {
          "output_type": "stream",
          "name": "stdout",
          "text": [
            "Saving vehiculo-electrico.png to vehiculo-electrico (3).png\n"
          ]
        },
        {
          "output_type": "stream",
          "name": "stderr",
          "text": [
            "/root/.cache/torch/hub/ultralytics_yolov5_master/models/common.py:894: FutureWarning: `torch.cuda.amp.autocast(args...)` is deprecated. Please use `torch.amp.autocast('cuda', args...)` instead.\n",
            "  with amp.autocast(autocast):\n"
          ]
        },
        {
          "output_type": "stream",
          "name": "stdout",
          "text": [
            "Vehicle detection: None\n"
          ]
        },
        {
          "output_type": "stream",
          "name": "stderr",
          "text": [
            "/usr/local/lib/python3.11/dist-packages/yolov5/models/common.py:709: FutureWarning: `torch.cuda.amp.autocast(args...)` is deprecated. Please use `torch.amp.autocast('cuda', args...)` instead.\n",
            "  with amp.autocast(autocast):\n"
          ]
        },
        {
          "output_type": "stream",
          "name": "stdout",
          "text": [
            "Plate detection: [214.90536499023438, 217.0932159423828, 292.8822021484375, 235.35707092285156, 0.7184192538261414, 0.0]\n",
            "[([[29, 5], [53, 5], [53, 17], [29, 17]], 'ZOE', 0.8578993211869314)]\n",
            "[([[29, 5], [53, 5], [53, 17], [29, 17]], 'ZOE', 0.8578993211869314)]\n",
            "plate\n",
            "Matrícula insertada correctamente.\n",
            "{'matricula_id': 'ZOE', 'parking_id': 'parking_005', 'fecha_registro_dt': '2025-02-22 09:14:39', 'tarifa_id': 'tarifa_002', 'marca_ds': 'Toyota', 'modelo_ds': 'Celica', 'color_ds': 'Negro', 'tipo_vehiculo_id': '1', 'camara_in_id': '', 'camara_out_id': 'camara_out_005'}\n"
          ]
        }
      ]
    },
    {
      "cell_type": "markdown",
      "metadata": {
        "id": "D6YzKlgMPIQu"
      },
      "source": [
        "## 1. MODELO LLM"
      ]
    },
    {
      "cell_type": "code",
      "source": [
        "from openai import OpenAI\n",
        "import json\n",
        "import getpass\n",
        "\n",
        "api_key = getpass.getpass(\"Enter your OpenAI API Key:\")\n",
        "\n",
        "client_openai = OpenAI(api_key = api_key)"
      ],
      "metadata": {
        "id": "9JOzmGLGeJ29",
        "colab": {
          "base_uri": "https://localhost:8080/"
        },
        "outputId": "19f5ac89-656b-4cad-e405-3842cb41cb91"
      },
      "execution_count": null,
      "outputs": [
        {
          "name": "stdout",
          "output_type": "stream",
          "text": [
            "Enter your OpenAI API Key:··········\n"
          ]
        }
      ]
    },
    {
      "cell_type": "markdown",
      "source": [
        "### 1.1. Input del usuario"
      ],
      "metadata": {
        "id": "Xjap5IKWTMUR"
      }
    },
    {
      "cell_type": "code",
      "source": [
        "def user_input():\n",
        "    question = input(\"Escriba su consulta:\")\n",
        "    return question"
      ],
      "metadata": {
        "id": "0nSZw8TVSmOI"
      },
      "execution_count": null,
      "outputs": []
    },
    {
      "cell_type": "markdown",
      "source": [
        "### 1.2. Prompt Engineering con ChatGPT"
      ],
      "metadata": {
        "id": "SnQM6AgJQSuv"
      }
    },
    {
      "cell_type": "code",
      "source": [
        "def input_format(question, model=\"gpt-3.5-turbo\", temperature=0):\n",
        "\n",
        "    prompt_template = \"\"\"\n",
        "Eres un experto de SQL para una base de datos de registro de vehiculos. Tu tarea es convertir una pregunta de lenguaje natural a una consulta SQL valida.\n",
        "\n",
        "## **ESTRUCTURA DE LA BASE DE DATOS**\n",
        "Nombre del proyecto: 'aiparking-451016'\n",
        "Nombre de la tabla: '00_aiparking.accesos'\n",
        "\n",
        "- matricula_id STRING\n",
        "- parking_id STRING\n",
        "- fecha_registro_dt DATETIME\n",
        "- camara_in_id STRING\n",
        "- camara_out_id STRING\n",
        "- tipo_vehiculo_id STRING\n",
        "- marca_ds STRING\n",
        "- modelo_ds STRING\n",
        "- color_ds STRING\n",
        "- tarifa_id STRING\n",
        "\n",
        "## **TAREA**\n",
        "Responde UNICAMENTE con la consulta en SQL.\n",
        "\n",
        "## **EJEMPLOS**\n",
        "Pregunta: \"Cual es el modelo del vehiculo con la matricula 5489 HEB?\"\n",
        "Respuesta: SELECT modelo_ds FROM `aiparking-451016.00_aiparking.accesos` WHERE matricula_id = '5489 HEB';\n",
        "\n",
        "Pregunta: \"Coches de color Gris, Blanco o Azul y que sean de tipo 1\"\n",
        "Respuesta: SELECT * FROM `aiparking-451016.00_aiparking.accesos` WHERE color_ds IN ('Gris', 'Blanco', 'Azul') AND tipo_vehiculo_id = '1';\n",
        "\n",
        "Pregunta: \"A qué hora entró el coche con matrícula 1234ABC el día de ayer?\"\n",
        "Respuesta: SELECT fecha_registro_dt FROM `aiparking-451016.00_aiparking.accesos` WHERE matricula_id = '1234ABC' AND DATE(fecha_registro_dt) = DATE_SUB(CURRENT_DATE(), INTERVAL 1 DAY);;\n",
        "\n",
        "## **NUEVA PREGUNTA DEL USUARIO:**\n",
        "\"{question}\"\n",
        "\n",
        "## **RESPUESTA EN SQL:**\n",
        "\"\"\"\n",
        "    prompt = prompt_template.format(question=question)\n",
        "    messages = [{\"role\": \"user\", \"content\": prompt}]\n",
        "    response = client_openai.chat.completions.create(\n",
        "        model=model,\n",
        "        messages=messages,\n",
        "        temperature=temperature,\n",
        "    )\n",
        "\n",
        "    sql_query = response.choices[0].message.content\n",
        "    return sql_query\n"
      ],
      "metadata": {
        "id": "7g6yUUy9IJI3"
      },
      "execution_count": null,
      "outputs": []
    },
    {
      "cell_type": "markdown",
      "source": [
        "* Ejemplo 1"
      ],
      "metadata": {
        "id": "_pIEf542jcNk"
      }
    },
    {
      "cell_type": "code",
      "source": [
        "question_1 = \"qué coches con matrícula que acaba en L entraron al parking el día 25/01/2025 entre las 07:00am y las 09:30am?\""
      ],
      "metadata": {
        "id": "LdmzrVsJeKME"
      },
      "execution_count": null,
      "outputs": []
    },
    {
      "cell_type": "code",
      "source": [
        "response_1 = input_format(question_1)\n",
        "print(response_1)"
      ],
      "metadata": {
        "id": "6t6hIBnwhaMk",
        "colab": {
          "base_uri": "https://localhost:8080/"
        },
        "outputId": "6a1afce7-93df-45db-f03f-c4336f0d5138"
      },
      "execution_count": null,
      "outputs": [
        {
          "output_type": "stream",
          "name": "stdout",
          "text": [
            "SELECT * FROM `aiparking-451016.00_aiparking.vehiculos` \n",
            "WHERE matricula_id LIKE '%L' \n",
            "AND DATE(fecha_registro_dt) = '2025-01-25' \n",
            "AND TIME(fecha_registro_dt) BETWEEN '07:00:00' AND '09:30:00';\n"
          ]
        }
      ]
    },
    {
      "cell_type": "markdown",
      "source": [
        "### 1.3. Acceso a la Database de BigQuery"
      ],
      "metadata": {
        "id": "jYAFzzzPQNRm"
      }
    },
    {
      "cell_type": "code",
      "source": [
        "from google.colab import auth\n",
        "auth.authenticate_user()"
      ],
      "metadata": {
        "id": "dHCTSKfpQZ-R"
      },
      "execution_count": null,
      "outputs": []
    },
    {
      "cell_type": "code",
      "source": [
        "from google.cloud import bigquery\n",
        "\n",
        "# Creamos un cliente de BigQuery\n",
        "client = bigquery.Client(project='aiparking-451016')"
      ],
      "metadata": {
        "id": "XEfjqrARQjJX"
      },
      "execution_count": null,
      "outputs": []
    },
    {
      "cell_type": "code",
      "source": [
        "import pandas as pd\n",
        "\n",
        "def sql_ans(query):\n",
        "\n",
        "      # Consulta SQL\n",
        "      query_job = client.query(query)\n",
        "\n",
        "      results = query_job.result()\n",
        "\n",
        "      # Convertir los resultados a un DataFrame de Pandas\n",
        "      df = results.to_dataframe()\n",
        "\n",
        "      return df"
      ],
      "metadata": {
        "id": "SbiSQt3kQqZw"
      },
      "execution_count": null,
      "outputs": []
    },
    {
      "cell_type": "markdown",
      "source": [
        "### 1.4. Pipeline"
      ],
      "metadata": {
        "id": "wSP13cXBRjww"
      }
    },
    {
      "cell_type": "code",
      "source": [
        "def main_LLM(question=None):\n",
        "\n",
        "    # 1. Pregunta del usuario\n",
        "    if question is None:\n",
        "      question = user_input()\n",
        "\n",
        "    # 2. Conversión lenguaje natural a SQL\n",
        "    query = input_format(question=question, model=\"gpt-3.5-turbo\", temperature=0)\n",
        "\n",
        "    # 3. Acceso al Database de BigQuery\n",
        "    answer = sql_ans(query)\n",
        "\n",
        "    # 6. Mostrar la salida\n",
        "    print(answer)\n",
        "\n",
        "    return answer"
      ],
      "metadata": {
        "id": "ln_02H6VRmvl"
      },
      "execution_count": null,
      "outputs": []
    },
    {
      "cell_type": "code",
      "source": [
        "main_LLM()"
      ],
      "metadata": {
        "id": "00sRgVXamfKB",
        "colab": {
          "base_uri": "https://localhost:8080/",
          "height": 181
        },
        "outputId": "0cd71413-0449-4503-88c8-a3bce14e0e2a"
      },
      "execution_count": null,
      "outputs": [
        {
          "output_type": "stream",
          "name": "stdout",
          "text": [
            "Escriba su consulta:que marca y modelo es el coche 3483JLFI?\n",
            "   marca_ds modelo_ds\n",
            "0  Mercedes      C63S\n",
            "1     Tesla         X\n"
          ]
        },
        {
          "output_type": "execute_result",
          "data": {
            "text/plain": [
              "   marca_ds modelo_ds\n",
              "0  Mercedes      C63S\n",
              "1     Tesla         X"
            ],
            "text/html": [
              "\n",
              "  <div id=\"df-1e3d82c0-86d2-4070-9bc0-7deab61f757b\" class=\"colab-df-container\">\n",
              "    <div>\n",
              "<style scoped>\n",
              "    .dataframe tbody tr th:only-of-type {\n",
              "        vertical-align: middle;\n",
              "    }\n",
              "\n",
              "    .dataframe tbody tr th {\n",
              "        vertical-align: top;\n",
              "    }\n",
              "\n",
              "    .dataframe thead th {\n",
              "        text-align: right;\n",
              "    }\n",
              "</style>\n",
              "<table border=\"1\" class=\"dataframe\">\n",
              "  <thead>\n",
              "    <tr style=\"text-align: right;\">\n",
              "      <th></th>\n",
              "      <th>marca_ds</th>\n",
              "      <th>modelo_ds</th>\n",
              "    </tr>\n",
              "  </thead>\n",
              "  <tbody>\n",
              "    <tr>\n",
              "      <th>0</th>\n",
              "      <td>Mercedes</td>\n",
              "      <td>C63S</td>\n",
              "    </tr>\n",
              "    <tr>\n",
              "      <th>1</th>\n",
              "      <td>Tesla</td>\n",
              "      <td>X</td>\n",
              "    </tr>\n",
              "  </tbody>\n",
              "</table>\n",
              "</div>\n",
              "    <div class=\"colab-df-buttons\">\n",
              "\n",
              "  <div class=\"colab-df-container\">\n",
              "    <button class=\"colab-df-convert\" onclick=\"convertToInteractive('df-1e3d82c0-86d2-4070-9bc0-7deab61f757b')\"\n",
              "            title=\"Convert this dataframe to an interactive table.\"\n",
              "            style=\"display:none;\">\n",
              "\n",
              "  <svg xmlns=\"http://www.w3.org/2000/svg\" height=\"24px\" viewBox=\"0 -960 960 960\">\n",
              "    <path d=\"M120-120v-720h720v720H120Zm60-500h600v-160H180v160Zm220 220h160v-160H400v160Zm0 220h160v-160H400v160ZM180-400h160v-160H180v160Zm440 0h160v-160H620v160ZM180-180h160v-160H180v160Zm440 0h160v-160H620v160Z\"/>\n",
              "  </svg>\n",
              "    </button>\n",
              "\n",
              "  <style>\n",
              "    .colab-df-container {\n",
              "      display:flex;\n",
              "      gap: 12px;\n",
              "    }\n",
              "\n",
              "    .colab-df-convert {\n",
              "      background-color: #E8F0FE;\n",
              "      border: none;\n",
              "      border-radius: 50%;\n",
              "      cursor: pointer;\n",
              "      display: none;\n",
              "      fill: #1967D2;\n",
              "      height: 32px;\n",
              "      padding: 0 0 0 0;\n",
              "      width: 32px;\n",
              "    }\n",
              "\n",
              "    .colab-df-convert:hover {\n",
              "      background-color: #E2EBFA;\n",
              "      box-shadow: 0px 1px 2px rgba(60, 64, 67, 0.3), 0px 1px 3px 1px rgba(60, 64, 67, 0.15);\n",
              "      fill: #174EA6;\n",
              "    }\n",
              "\n",
              "    .colab-df-buttons div {\n",
              "      margin-bottom: 4px;\n",
              "    }\n",
              "\n",
              "    [theme=dark] .colab-df-convert {\n",
              "      background-color: #3B4455;\n",
              "      fill: #D2E3FC;\n",
              "    }\n",
              "\n",
              "    [theme=dark] .colab-df-convert:hover {\n",
              "      background-color: #434B5C;\n",
              "      box-shadow: 0px 1px 3px 1px rgba(0, 0, 0, 0.15);\n",
              "      filter: drop-shadow(0px 1px 2px rgba(0, 0, 0, 0.3));\n",
              "      fill: #FFFFFF;\n",
              "    }\n",
              "  </style>\n",
              "\n",
              "    <script>\n",
              "      const buttonEl =\n",
              "        document.querySelector('#df-1e3d82c0-86d2-4070-9bc0-7deab61f757b button.colab-df-convert');\n",
              "      buttonEl.style.display =\n",
              "        google.colab.kernel.accessAllowed ? 'block' : 'none';\n",
              "\n",
              "      async function convertToInteractive(key) {\n",
              "        const element = document.querySelector('#df-1e3d82c0-86d2-4070-9bc0-7deab61f757b');\n",
              "        const dataTable =\n",
              "          await google.colab.kernel.invokeFunction('convertToInteractive',\n",
              "                                                    [key], {});\n",
              "        if (!dataTable) return;\n",
              "\n",
              "        const docLinkHtml = 'Like what you see? Visit the ' +\n",
              "          '<a target=\"_blank\" href=https://colab.research.google.com/notebooks/data_table.ipynb>data table notebook</a>'\n",
              "          + ' to learn more about interactive tables.';\n",
              "        element.innerHTML = '';\n",
              "        dataTable['output_type'] = 'display_data';\n",
              "        await google.colab.output.renderOutput(dataTable, element);\n",
              "        const docLink = document.createElement('div');\n",
              "        docLink.innerHTML = docLinkHtml;\n",
              "        element.appendChild(docLink);\n",
              "      }\n",
              "    </script>\n",
              "  </div>\n",
              "\n",
              "\n",
              "<div id=\"df-23873944-8f96-443f-a05f-92684a9488b0\">\n",
              "  <button class=\"colab-df-quickchart\" onclick=\"quickchart('df-23873944-8f96-443f-a05f-92684a9488b0')\"\n",
              "            title=\"Suggest charts\"\n",
              "            style=\"display:none;\">\n",
              "\n",
              "<svg xmlns=\"http://www.w3.org/2000/svg\" height=\"24px\"viewBox=\"0 0 24 24\"\n",
              "     width=\"24px\">\n",
              "    <g>\n",
              "        <path d=\"M19 3H5c-1.1 0-2 .9-2 2v14c0 1.1.9 2 2 2h14c1.1 0 2-.9 2-2V5c0-1.1-.9-2-2-2zM9 17H7v-7h2v7zm4 0h-2V7h2v10zm4 0h-2v-4h2v4z\"/>\n",
              "    </g>\n",
              "</svg>\n",
              "  </button>\n",
              "\n",
              "<style>\n",
              "  .colab-df-quickchart {\n",
              "      --bg-color: #E8F0FE;\n",
              "      --fill-color: #1967D2;\n",
              "      --hover-bg-color: #E2EBFA;\n",
              "      --hover-fill-color: #174EA6;\n",
              "      --disabled-fill-color: #AAA;\n",
              "      --disabled-bg-color: #DDD;\n",
              "  }\n",
              "\n",
              "  [theme=dark] .colab-df-quickchart {\n",
              "      --bg-color: #3B4455;\n",
              "      --fill-color: #D2E3FC;\n",
              "      --hover-bg-color: #434B5C;\n",
              "      --hover-fill-color: #FFFFFF;\n",
              "      --disabled-bg-color: #3B4455;\n",
              "      --disabled-fill-color: #666;\n",
              "  }\n",
              "\n",
              "  .colab-df-quickchart {\n",
              "    background-color: var(--bg-color);\n",
              "    border: none;\n",
              "    border-radius: 50%;\n",
              "    cursor: pointer;\n",
              "    display: none;\n",
              "    fill: var(--fill-color);\n",
              "    height: 32px;\n",
              "    padding: 0;\n",
              "    width: 32px;\n",
              "  }\n",
              "\n",
              "  .colab-df-quickchart:hover {\n",
              "    background-color: var(--hover-bg-color);\n",
              "    box-shadow: 0 1px 2px rgba(60, 64, 67, 0.3), 0 1px 3px 1px rgba(60, 64, 67, 0.15);\n",
              "    fill: var(--button-hover-fill-color);\n",
              "  }\n",
              "\n",
              "  .colab-df-quickchart-complete:disabled,\n",
              "  .colab-df-quickchart-complete:disabled:hover {\n",
              "    background-color: var(--disabled-bg-color);\n",
              "    fill: var(--disabled-fill-color);\n",
              "    box-shadow: none;\n",
              "  }\n",
              "\n",
              "  .colab-df-spinner {\n",
              "    border: 2px solid var(--fill-color);\n",
              "    border-color: transparent;\n",
              "    border-bottom-color: var(--fill-color);\n",
              "    animation:\n",
              "      spin 1s steps(1) infinite;\n",
              "  }\n",
              "\n",
              "  @keyframes spin {\n",
              "    0% {\n",
              "      border-color: transparent;\n",
              "      border-bottom-color: var(--fill-color);\n",
              "      border-left-color: var(--fill-color);\n",
              "    }\n",
              "    20% {\n",
              "      border-color: transparent;\n",
              "      border-left-color: var(--fill-color);\n",
              "      border-top-color: var(--fill-color);\n",
              "    }\n",
              "    30% {\n",
              "      border-color: transparent;\n",
              "      border-left-color: var(--fill-color);\n",
              "      border-top-color: var(--fill-color);\n",
              "      border-right-color: var(--fill-color);\n",
              "    }\n",
              "    40% {\n",
              "      border-color: transparent;\n",
              "      border-right-color: var(--fill-color);\n",
              "      border-top-color: var(--fill-color);\n",
              "    }\n",
              "    60% {\n",
              "      border-color: transparent;\n",
              "      border-right-color: var(--fill-color);\n",
              "    }\n",
              "    80% {\n",
              "      border-color: transparent;\n",
              "      border-right-color: var(--fill-color);\n",
              "      border-bottom-color: var(--fill-color);\n",
              "    }\n",
              "    90% {\n",
              "      border-color: transparent;\n",
              "      border-bottom-color: var(--fill-color);\n",
              "    }\n",
              "  }\n",
              "</style>\n",
              "\n",
              "  <script>\n",
              "    async function quickchart(key) {\n",
              "      const quickchartButtonEl =\n",
              "        document.querySelector('#' + key + ' button');\n",
              "      quickchartButtonEl.disabled = true;  // To prevent multiple clicks.\n",
              "      quickchartButtonEl.classList.add('colab-df-spinner');\n",
              "      try {\n",
              "        const charts = await google.colab.kernel.invokeFunction(\n",
              "            'suggestCharts', [key], {});\n",
              "      } catch (error) {\n",
              "        console.error('Error during call to suggestCharts:', error);\n",
              "      }\n",
              "      quickchartButtonEl.classList.remove('colab-df-spinner');\n",
              "      quickchartButtonEl.classList.add('colab-df-quickchart-complete');\n",
              "    }\n",
              "    (() => {\n",
              "      let quickchartButtonEl =\n",
              "        document.querySelector('#df-23873944-8f96-443f-a05f-92684a9488b0 button');\n",
              "      quickchartButtonEl.style.display =\n",
              "        google.colab.kernel.accessAllowed ? 'block' : 'none';\n",
              "    })();\n",
              "  </script>\n",
              "</div>\n",
              "\n",
              "    </div>\n",
              "  </div>\n"
            ],
            "application/vnd.google.colaboratory.intrinsic+json": {
              "type": "dataframe",
              "summary": "{\n  \"name\": \"main_LLM()\",\n  \"rows\": 2,\n  \"fields\": [\n    {\n      \"column\": \"marca_ds\",\n      \"properties\": {\n        \"dtype\": \"string\",\n        \"num_unique_values\": 2,\n        \"samples\": [\n          \"Tesla\",\n          \"Mercedes\"\n        ],\n        \"semantic_type\": \"\",\n        \"description\": \"\"\n      }\n    },\n    {\n      \"column\": \"modelo_ds\",\n      \"properties\": {\n        \"dtype\": \"string\",\n        \"num_unique_values\": 2,\n        \"samples\": [\n          \"X\",\n          \"C63S\"\n        ],\n        \"semantic_type\": \"\",\n        \"description\": \"\"\n      }\n    }\n  ]\n}"
            }
          },
          "metadata": {},
          "execution_count": 48
        }
      ]
    }
  ],
  "metadata": {
    "colab": {
      "provenance": []
    },
    "kernelspec": {
      "display_name": "Python 3",
      "name": "python3"
    },
    "language_info": {
      "name": "python"
    }
  },
  "nbformat": 4,
  "nbformat_minor": 0
}
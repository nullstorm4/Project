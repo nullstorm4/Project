{
  "nbformat": 4,
  "nbformat_minor": 0,
  "metadata": {
    "colab": {
      "provenance": []
    },
    "kernelspec": {
      "name": "python3",
      "display_name": "Python 3"
    },
    "language_info": {
      "name": "python"
    }
  },
  "cells": [
    {
      "cell_type": "code",
      "source": [
        "#############################################################################################################\n",
        "############################## EDW - AIparking - IA Full Stack ##############################################\n",
        "#############################################################################################################\n",
        "\n",
        "# 1. Creamos el proyecto en BigQuery: aiparking-451016\n",
        "# 2. Definimos la estructura de la base de datos (ver AIparking.pdf AIparking como mapa de entidades de la base de datos)\n",
        "# 3. Generamos datos dummies"
      ],
      "metadata": {
        "id": "7m2nNnXX58K1"
      },
      "execution_count": 1,
      "outputs": []
    },
    {
      "cell_type": "code",
      "execution_count": 2,
      "metadata": {
        "colab": {
          "base_uri": "https://localhost:8080/"
        },
        "id": "KNdwloFniF7P",
        "outputId": "fccfd2b0-2c9b-4084-b1f4-5086a6b94a1b"
      },
      "outputs": [
        {
          "output_type": "stream",
          "name": "stdout",
          "text": [
            "Requirement already satisfied: google-cloud-bigquery in /usr/local/lib/python3.11/dist-packages (3.29.0)\n",
            "Requirement already satisfied: google-api-core<3.0.0dev,>=2.11.1 in /usr/local/lib/python3.11/dist-packages (from google-api-core[grpc]<3.0.0dev,>=2.11.1->google-cloud-bigquery) (2.24.1)\n",
            "Requirement already satisfied: google-auth<3.0.0dev,>=2.14.1 in /usr/local/lib/python3.11/dist-packages (from google-cloud-bigquery) (2.27.0)\n",
            "Requirement already satisfied: google-cloud-core<3.0.0dev,>=2.4.1 in /usr/local/lib/python3.11/dist-packages (from google-cloud-bigquery) (2.4.1)\n",
            "Requirement already satisfied: google-resumable-media<3.0dev,>=2.0.0 in /usr/local/lib/python3.11/dist-packages (from google-cloud-bigquery) (2.7.2)\n",
            "Requirement already satisfied: packaging>=20.0.0 in /usr/local/lib/python3.11/dist-packages (from google-cloud-bigquery) (24.2)\n",
            "Requirement already satisfied: python-dateutil<3.0dev,>=2.7.3 in /usr/local/lib/python3.11/dist-packages (from google-cloud-bigquery) (2.8.2)\n",
            "Requirement already satisfied: requests<3.0.0dev,>=2.21.0 in /usr/local/lib/python3.11/dist-packages (from google-cloud-bigquery) (2.32.3)\n",
            "Requirement already satisfied: googleapis-common-protos<2.0.dev0,>=1.56.2 in /usr/local/lib/python3.11/dist-packages (from google-api-core<3.0.0dev,>=2.11.1->google-api-core[grpc]<3.0.0dev,>=2.11.1->google-cloud-bigquery) (1.67.0)\n",
            "Requirement already satisfied: protobuf!=3.20.0,!=3.20.1,!=4.21.0,!=4.21.1,!=4.21.2,!=4.21.3,!=4.21.4,!=4.21.5,<6.0.0.dev0,>=3.19.5 in /usr/local/lib/python3.11/dist-packages (from google-api-core<3.0.0dev,>=2.11.1->google-api-core[grpc]<3.0.0dev,>=2.11.1->google-cloud-bigquery) (4.25.6)\n",
            "Requirement already satisfied: proto-plus<2.0.0dev,>=1.22.3 in /usr/local/lib/python3.11/dist-packages (from google-api-core<3.0.0dev,>=2.11.1->google-api-core[grpc]<3.0.0dev,>=2.11.1->google-cloud-bigquery) (1.26.0)\n",
            "Requirement already satisfied: grpcio<2.0dev,>=1.33.2 in /usr/local/lib/python3.11/dist-packages (from google-api-core[grpc]<3.0.0dev,>=2.11.1->google-cloud-bigquery) (1.70.0)\n",
            "Requirement already satisfied: grpcio-status<2.0.dev0,>=1.33.2 in /usr/local/lib/python3.11/dist-packages (from google-api-core[grpc]<3.0.0dev,>=2.11.1->google-cloud-bigquery) (1.62.3)\n",
            "Requirement already satisfied: cachetools<6.0,>=2.0.0 in /usr/local/lib/python3.11/dist-packages (from google-auth<3.0.0dev,>=2.14.1->google-cloud-bigquery) (5.5.1)\n",
            "Requirement already satisfied: pyasn1-modules>=0.2.1 in /usr/local/lib/python3.11/dist-packages (from google-auth<3.0.0dev,>=2.14.1->google-cloud-bigquery) (0.4.1)\n",
            "Requirement already satisfied: rsa<5,>=3.1.4 in /usr/local/lib/python3.11/dist-packages (from google-auth<3.0.0dev,>=2.14.1->google-cloud-bigquery) (4.9)\n",
            "Requirement already satisfied: google-crc32c<2.0dev,>=1.0 in /usr/local/lib/python3.11/dist-packages (from google-resumable-media<3.0dev,>=2.0.0->google-cloud-bigquery) (1.6.0)\n",
            "Requirement already satisfied: six>=1.5 in /usr/local/lib/python3.11/dist-packages (from python-dateutil<3.0dev,>=2.7.3->google-cloud-bigquery) (1.17.0)\n",
            "Requirement already satisfied: charset-normalizer<4,>=2 in /usr/local/lib/python3.11/dist-packages (from requests<3.0.0dev,>=2.21.0->google-cloud-bigquery) (3.4.1)\n",
            "Requirement already satisfied: idna<4,>=2.5 in /usr/local/lib/python3.11/dist-packages (from requests<3.0.0dev,>=2.21.0->google-cloud-bigquery) (3.10)\n",
            "Requirement already satisfied: urllib3<3,>=1.21.1 in /usr/local/lib/python3.11/dist-packages (from requests<3.0.0dev,>=2.21.0->google-cloud-bigquery) (2.3.0)\n",
            "Requirement already satisfied: certifi>=2017.4.17 in /usr/local/lib/python3.11/dist-packages (from requests<3.0.0dev,>=2.21.0->google-cloud-bigquery) (2025.1.31)\n",
            "Requirement already satisfied: pyasn1<0.7.0,>=0.4.6 in /usr/local/lib/python3.11/dist-packages (from pyasn1-modules>=0.2.1->google-auth<3.0.0dev,>=2.14.1->google-cloud-bigquery) (0.6.1)\n"
          ]
        }
      ],
      "source": [
        "# Instalar la biblioteca de BigQuery en Colab\n",
        "!pip install --upgrade google-cloud-bigquery\n",
        "\n",
        "# Autenticación con Google Cloud\n",
        "from google.colab import auth\n",
        "auth.authenticate_user()\n"
      ]
    },
    {
      "cell_type": "code",
      "source": [
        "from google.cloud import bigquery\n",
        "\n",
        "# Definimos el cliente y el dataset\n",
        "project_id = 'aiparking-451016'\n",
        "dataset_id = '00_aiparking'\n",
        "client = bigquery.Client(project=project_id)\n"
      ],
      "metadata": {
        "id": "N7Vsx7t-kA65"
      },
      "execution_count": 3,
      "outputs": []
    },
    {
      "cell_type": "code",
      "source": [
        "# Lista de tablas a eliminar\n",
        "tables_to_drop = [\n",
        "    'parking', 'accesos', 'tarifa', 'abonados', 'tipo_vehiculo'\n",
        "    ]\n",
        "\n",
        "# Eliminamos las tablas\n",
        "for table_name in tables_to_drop:\n",
        "    try:\n",
        "        client.query(f'DROP TABLE IF EXISTS `{project_id}.{dataset_id}.{table_name}`').result()\n",
        "        print(f\"Tabla {table_name} eliminada exitosamente.\")\n",
        "    except Exception as e:\n",
        "        print(f\"Error al eliminar la tabla {table_name}: {e}\")\n"
      ],
      "metadata": {
        "colab": {
          "base_uri": "https://localhost:8080/"
        },
        "id": "14LyNmqzkHkY",
        "outputId": "d6376eae-96c4-4951-9894-350e3e4c1343"
      },
      "execution_count": 4,
      "outputs": [
        {
          "output_type": "stream",
          "name": "stdout",
          "text": [
            "Tabla parking eliminada exitosamente.\n",
            "Tabla accesos eliminada exitosamente.\n",
            "Tabla tarifa eliminada exitosamente.\n",
            "Tabla abonados eliminada exitosamente.\n",
            "Tabla tipo_vehiculo eliminada exitosamente.\n"
          ]
        }
      ]
    },
    {
      "cell_type": "code",
      "source": [
        "# Útil para generar identificadores únicos en BQ\n",
        "import uuid"
      ],
      "metadata": {
        "id": "hDeos1OcWlPa"
      },
      "execution_count": 5,
      "outputs": []
    },
    {
      "cell_type": "code",
      "source": [
        "# Creamos la tabla parking\n",
        "create_table_query = f\"\"\"\n",
        "CREATE TABLE `{project_id}.{dataset_id}.parking` (\n",
        "    parking_id STRING NOT NULL,\n",
        "    nombre_parking_ds STRING NOT NULL,\n",
        "    direccion_ds STRING NOT NULL,\n",
        "    capacidad_nm INT64 NOT NULL,\n",
        "    horario_apertura_tm TIME NOT NULL,\n",
        "    horario_cierre_tm TIME NOT NULL,\n",
        "    camara_in_id STRING NOT NULL,\n",
        "    camara_out_id STRING NOT NULL\n",
        ");\n",
        "\"\"\"\n",
        "client.query(create_table_query).result()\n",
        "print(\"Tabla 'parking' creada exitosamente.\")"
      ],
      "metadata": {
        "colab": {
          "base_uri": "https://localhost:8080/"
        },
        "id": "aXIel4xfkkmJ",
        "outputId": "148c8950-9f9d-4ba7-d53e-e999deb96c71"
      },
      "execution_count": 6,
      "outputs": [
        {
          "output_type": "stream",
          "name": "stdout",
          "text": [
            "Tabla 'parking' creada exitosamente.\n"
          ]
        }
      ]
    },
    {
      "cell_type": "code",
      "source": [
        "parking_dummy_data = [\n",
        "    (\"parking_001\", \"Parking Central\", \"Av. Principal 123, Ciudad\", 200, \"08:00:00\", \"22:00:00\", \"camara_in_001\", \"camara_out_001\"),\n",
        "    (\"parking_002\", \"Estacionamiento Sur\", \"Calle Ficticia 456, Ciudad\", 150, \"07:30:00\", \"21:30:00\", \"camara_in_002\", \"camara_out_002\"),\n",
        "    (\"parking_003\", \"Park In Town\", \"Calle Larga 789, Ciudad\", 100, \"09:00:00\", \"20:00:00\", \"camara_in_003\", \"camara_out_003\"),\n",
        "    (\"parking_004\", \"Estacionamiento Norte\", \"Avenida Norte 101, Ciudad\", 250, \"06:00:00\", \"23:00:00\", \"camara_in_004\", \"camara_out_004\"),\n",
        "    (\"parking_005\", \"Parking 24h\", \"Calle 24h 202, Ciudad\", 120, \"09:00:00\", \"23:00:00\", \"camara_in_005\", \"camara_out_005\")\n",
        "]\n",
        "\n",
        "# Consulta de inserción de datos\n",
        "insert_query = f\"\"\"\n",
        "INSERT INTO `{project_id}.{dataset_id}.parking` (\n",
        "    parking_id, nombre_parking_ds, direccion_ds, capacidad_nm,\n",
        "    horario_apertura_tm, horario_cierre_tm, camara_in_id, camara_out_id\n",
        ")\n",
        "VALUES\n",
        "\"\"\"\n",
        "\n",
        "# Crear los valores a insertar\n",
        "insert_values = \", \".join([f\"('{row[0]}', '{row[1]}', '{row[2]}', {row[3]}, '{row[4]}', '{row[5]}', '{row[6]}', '{row[7]}')\" for row in parking_dummy_data])\n",
        "\n",
        "# Completar la consulta\n",
        "insert_query += insert_values\n",
        "\n",
        "# Ejecutar la consulta de inserción\n",
        "client.query(insert_query).result()\n",
        "print(\"Datos dummy insertados correctamente en la tabla 'parking'.\")"
      ],
      "metadata": {
        "colab": {
          "base_uri": "https://localhost:8080/"
        },
        "id": "XUbCzTTdyLap",
        "outputId": "65cf0d26-7bae-42be-9010-71ab036475f4"
      },
      "execution_count": 7,
      "outputs": [
        {
          "output_type": "stream",
          "name": "stdout",
          "text": [
            "Datos dummy insertados correctamente en la tabla 'parking'.\n"
          ]
        }
      ]
    },
    {
      "cell_type": "code",
      "source": [
        "# Creamos la tabla accesos\n",
        "create_table_query = f\"\"\"\n",
        "CREATE TABLE `{project_id}.{dataset_id}.accesos` (\n",
        "    matricula_id STRING NOT NULL,\n",
        "    parking_id STRING NOT NULL,\n",
        "    fecha_registro_dt DATETIME NOT NULL,\n",
        "    camara_in_id STRING,\n",
        "    camara_out_id STRING,\n",
        "    tarifa_id STRING NOT NULL,\n",
        "    marca_ds STRING,\n",
        "    modelo_ds STRING,\n",
        "    color_ds STRING,\n",
        "    tipo_vehiculo_id STRING NOT NULL\n",
        ");\n",
        "\"\"\"\n",
        "client.query(create_table_query).result()\n",
        "print(\"Tabla 'accesos' creada exitosamente.\")"
      ],
      "metadata": {
        "colab": {
          "base_uri": "https://localhost:8080/"
        },
        "id": "MyZVajdXwD5B",
        "outputId": "48e94f07-b3a2-47d5-ea5c-9cf3cdbebcea"
      },
      "execution_count": 8,
      "outputs": [
        {
          "output_type": "stream",
          "name": "stdout",
          "text": [
            "Tabla 'accesos' creada exitosamente.\n"
          ]
        }
      ]
    },
    {
      "cell_type": "code",
      "source": [
        "# Datos dummy para accesos\n",
        "accesos_dummy_data = [\n",
        "    (\"0265LKL\", \"parking_001\", \"2024-12-01 14:01:23\", \"camara_in_001\", \"\", \"tarifa_001\",\"seat\",\"leon\",\"\",\"1\"),\n",
        "    (\"0265LKL\", \"parking_001\", \"2024-12-01 18:11:53\", \"\", \"camara_out_002\", \"tarifa_001\",\"seat\",\"leon\",\"\",\"1\"),\n",
        "    (\"0225KKL\", \"parking_002\", \"2024-12-01 20:01:23\", \"camara_in_003\", \"\", \"tarifa_001\",\"\",\"\",\"\",\"1\"),\n",
        "    (\"1265DEF\", \"parking_003\", \"2024-12-10 10:01:25\", \"camara_in_004\", \"\", \"tarifa_001\",\"bmw\",\"serie 3\",\"negro\",\"1\"),\n",
        "    (\"1234MNO\", \"parking_003\", \"2024-12-15 11:01:24\", \"camara_in_005\", \"\", \"tarifa_005\",\"ford\",\"mustang\",\"\",\"1\"),\n",
        "    (\"0277LKB\", \"parking_003\", \"2024-12-25 14:01:23\", \"camara_in_005\", \"\", \"tarifa_002\",\"toyota\",\"corolla\",\"\",\"1\")\n",
        "]\n",
        "\n",
        "# Consulta de inserción de datos\n",
        "insert_query = f\"\"\"\n",
        "INSERT INTO `{project_id}.{dataset_id}.accesos` (\n",
        "    matricula_id, parking_id, fecha_registro_dt, camara_in_id, camara_out_id, tarifa_id, marca_ds, modelo_ds, color_ds, tipo_vehiculo_id\n",
        ")\n",
        "VALUES\n",
        "\"\"\"\n",
        "\n",
        "# Crear los valores a insertar\n",
        "insert_values = \",\\n\".join([f\"('{row[0]}', '{row[1]}', '{row[2]}', '{row[3]}', '{row[4]}', '{row[5]}', '{row[6]}', '{row[7]}', '{row[8]}', '{row[9]}')\" for row in accesos_dummy_data])\n",
        "\n",
        "# Completar la consulta\n",
        "insert_query += insert_values\n",
        "\n",
        "# Ejecutar la consulta de inserción\n",
        "client.query(insert_query).result()\n",
        "print(\"Datos dummy insertados correctamente en la tabla 'accesos'.\")"
      ],
      "metadata": {
        "colab": {
          "base_uri": "https://localhost:8080/"
        },
        "id": "tVrsPKJLUQE9",
        "outputId": "f65db5a6-7e54-412a-f421-8093293890b5"
      },
      "execution_count": 9,
      "outputs": [
        {
          "output_type": "stream",
          "name": "stdout",
          "text": [
            "Datos dummy insertados correctamente en la tabla 'accesos'.\n"
          ]
        }
      ]
    },
    {
      "cell_type": "code",
      "source": [
        "# Creamos la tabla tarifa\n",
        "create_table_query = f\"\"\"\n",
        "CREATE TABLE `{project_id}.{dataset_id}.tarifa` (\n",
        "    tarifa_id STRING NOT NULL,\n",
        "    tarifa_ds STRING NOT NULL,\n",
        "    precio_nm FLOAT64 NOT NULL,\n",
        ");\n",
        "\"\"\"\n",
        "client.query(create_table_query).result()\n",
        "print(\"Tabla 'tarifa' creada exitosamente.\")"
      ],
      "metadata": {
        "colab": {
          "base_uri": "https://localhost:8080/"
        },
        "id": "eL-N3KM8wsgj",
        "outputId": "10576ac9-f161-4ea7-d2cb-19dff3325095"
      },
      "execution_count": 10,
      "outputs": [
        {
          "output_type": "stream",
          "name": "stdout",
          "text": [
            "Tabla 'tarifa' creada exitosamente.\n"
          ]
        }
      ]
    },
    {
      "cell_type": "code",
      "source": [
        "# Datos dummy para tarifas\n",
        "tarifas_dummy_data = [\n",
        "    (\"tarifa_001\", \"laboral_coche\", 0.05),\n",
        "    (\"tarifa_002\", \"festivo_coche\", 0.09),\n",
        "    (\"tarifa_003\", \"laboral_moto\", 0.02),\n",
        "    (\"tarifa_004\", \"festivo_moto\", 0.04),\n",
        "    (\"tarifa_005\", \"abonado_coche\", 0.02),\n",
        "    (\"tarifa_006\", \"abonado_moto\", 0.01)\n",
        "]\n",
        "\n",
        "# Consulta de inserción de datos para tarifas\n",
        "insert_query_tarifa = f\"\"\"\n",
        "INSERT INTO `{project_id}.{dataset_id}.tarifa` (\n",
        "    tarifa_id, tarifa_ds, precio_nm\n",
        ")\n",
        "VALUES\n",
        "\"\"\"\n",
        "\n",
        "# Crear los valores a insertar\n",
        "insert_values_tarifa = \",\\n\".join([f\"('{row[0]}', '{row[1]}', {row[2]})\" for row in tarifas_dummy_data])\n",
        "\n",
        "# Completar la consulta\n",
        "insert_query_tarifa += insert_values_tarifa\n",
        "\n",
        "# Ejecutar la consulta de inserción\n",
        "client.query(insert_query_tarifa).result()\n",
        "print(\"Datos dummy insertados correctamente en la tabla 'tarifa'.\")"
      ],
      "metadata": {
        "colab": {
          "base_uri": "https://localhost:8080/"
        },
        "id": "ff_VPwpGUclS",
        "outputId": "c069e1d0-5f13-4118-864f-07a9fa5a5a77"
      },
      "execution_count": 11,
      "outputs": [
        {
          "output_type": "stream",
          "name": "stdout",
          "text": [
            "Datos dummy insertados correctamente en la tabla 'tarifa'.\n"
          ]
        }
      ]
    },
    {
      "cell_type": "code",
      "source": [
        "# Creamos la tabla tipo_vehiculo\n",
        "create_table_query = f\"\"\"\n",
        "CREATE TABLE `{project_id}.{dataset_id}.tipo_vehiculo` (\n",
        "    tipo_vehiculo_id STRING NOT NULL,\n",
        "    tipo_vehiculo_ds STRING NOT NULL\n",
        ");\n",
        "\"\"\"\n",
        "client.query(create_table_query).result()\n",
        "print(\"Tabla 'tipo_vehiculo' creada exitosamente.\")"
      ],
      "metadata": {
        "colab": {
          "base_uri": "https://localhost:8080/"
        },
        "id": "f8k_Zk03xVgB",
        "outputId": "6fc183b4-4121-43d4-afc8-691c95f6748e"
      },
      "execution_count": 12,
      "outputs": [
        {
          "output_type": "stream",
          "name": "stdout",
          "text": [
            "Tabla 'tipo_vehiculo' creada exitosamente.\n"
          ]
        }
      ]
    },
    {
      "cell_type": "code",
      "source": [
        "# Datos dummy para tipo_vehiculo\n",
        "tipo_vehiculo_dummy_data = [\n",
        "    (\"1\", \"coche\"),\n",
        "    (\"2\", \"moto\")\n",
        "]\n",
        "\n",
        "# Consulta de inserción de datos para tipo_vehiculo\n",
        "insert_query_tipo_vehiculo = f\"\"\"\n",
        "INSERT INTO `{project_id}.{dataset_id}.tipo_vehiculo` (\n",
        "    tipo_vehiculo_id, tipo_vehiculo_ds\n",
        ")\n",
        "VALUES\n",
        "\"\"\"\n",
        "\n",
        "# Crear los valores a insertar\n",
        "insert_values_tipo_vehiculo = \",\\n\".join([f\"('{row[0]}', '{row[1]}')\" for row in tipo_vehiculo_dummy_data])\n",
        "\n",
        "# Completar la consulta\n",
        "insert_query_tipo_vehiculo += insert_values_tipo_vehiculo\n",
        "\n",
        "# Ejecutar la consulta de inserción\n",
        "client.query(insert_query_tipo_vehiculo).result()\n",
        "print(\"Datos dummy insertados correctamente en la tabla 'tipo_vehiculo'.\")"
      ],
      "metadata": {
        "colab": {
          "base_uri": "https://localhost:8080/"
        },
        "id": "69D3GlACUlKM",
        "outputId": "9c085263-5381-4742-9e24-d5ca3f4505ad"
      },
      "execution_count": 13,
      "outputs": [
        {
          "output_type": "stream",
          "name": "stdout",
          "text": [
            "Datos dummy insertados correctamente en la tabla 'tipo_vehiculo'.\n"
          ]
        }
      ]
    },
    {
      "cell_type": "code",
      "source": [
        "# Creamos la tabla abonados\n",
        "create_table_query = f\"\"\"\n",
        "CREATE TABLE `{project_id}.{dataset_id}.abonados` (\n",
        "    matricula_id STRING NOT NULL,\n",
        "    fecha_alta_dt DATETIME NOT NULL,\n",
        "    fecha_baja_dt DATETIME\n",
        ");\n",
        "\"\"\"\n",
        "client.query(create_table_query).result()\n",
        "print(\"Tabla 'abonados' creada exitosamente.\")"
      ],
      "metadata": {
        "colab": {
          "base_uri": "https://localhost:8080/"
        },
        "id": "A6JM2vo_xitA",
        "outputId": "3b6dd525-c341-48ae-fd90-6c17ca2eb64a"
      },
      "execution_count": 14,
      "outputs": [
        {
          "output_type": "stream",
          "name": "stdout",
          "text": [
            "Tabla 'abonados' creada exitosamente.\n"
          ]
        }
      ]
    },
    {
      "cell_type": "code",
      "source": [
        "# Datos dummy para abonados\n",
        "abonados_dummy_data = [\n",
        "    (\"1234MNO\", \"2024-12-01 00:00:00\", None)\n",
        "]\n",
        "\n",
        "# Consulta de inserción de datos para abonados\n",
        "insert_query_abonados = f\"\"\"\n",
        "INSERT INTO `{project_id}.{dataset_id}.abonados` (\n",
        "    matricula_id, fecha_alta_dt, fecha_baja_dt\n",
        ")\n",
        "VALUES\n",
        "\"\"\"\n",
        "\n",
        "# Crear los valores a insertar, manejando correctamente NULL para BigQuery\n",
        "insert_values_abonados = \",\\n\".join([\n",
        "    f\"('{row[0]}', '{row[1]}', {'NULL' if row[2] is None else repr(row[2])})\"\n",
        "    for row in abonados_dummy_data\n",
        "])\n",
        "\n",
        "# Completar la consulta\n",
        "insert_query_abonados += insert_values_abonados\n",
        "\n",
        "# Ejecutar la consulta en BigQuery\n",
        "client.query(insert_query_abonados).result()\n",
        "\n",
        "print(\"Datos dummy insertados correctamente en la tabla 'abonados'.\")"
      ],
      "metadata": {
        "colab": {
          "base_uri": "https://localhost:8080/"
        },
        "id": "tguqlZXDUtr9",
        "outputId": "a9f6fbc9-7a79-42c5-f741-0565c26a25da"
      },
      "execution_count": 15,
      "outputs": [
        {
          "output_type": "stream",
          "name": "stdout",
          "text": [
            "Datos dummy insertados correctamente en la tabla 'abonados'.\n"
          ]
        }
      ]
    }
  ]
}

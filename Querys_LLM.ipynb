{
  "cells": [
    {
      "cell_type": "markdown",
      "metadata": {
        "id": "IJnBwmAhKyJs"
      },
      "source": [
        "# PROYECTO FINAL"
      ]
    },
    {
      "cell_type": "markdown",
      "metadata": {
        "id": "D6YzKlgMPIQu"
      },
      "source": [
        "## 1. MODELO LLM"
      ]
    },
    {
      "cell_type": "code",
      "execution_count": 1,
      "metadata": {
        "colab": {
          "base_uri": "https://localhost:8080/"
        },
        "id": "9JOzmGLGeJ29",
        "outputId": "7f26ec55-2aa4-4d0c-9c39-8b5a7b076024"
      },
      "outputs": [
        {
          "name": "stdout",
          "output_type": "stream",
          "text": [
            "Enter your OpenAI API Key:··········\n"
          ]
        }
      ],
      "source": [
        "from openai import OpenAI\n",
        "import json\n",
        "import getpass\n",
        "\n",
        "api_key = getpass.getpass(\"Enter your OpenAI API Key:\")\n",
        "\n",
        "client_openai = OpenAI(api_key = api_key)"
      ]
    },
    {
      "cell_type": "markdown",
      "metadata": {
        "id": "Xjap5IKWTMUR"
      },
      "source": [
        "### 1.1. Input del usuario"
      ]
    },
    {
      "cell_type": "code",
      "execution_count": 2,
      "metadata": {
        "id": "0nSZw8TVSmOI"
      },
      "outputs": [],
      "source": [
        "def user_input():\n",
        "    question = input(\"Escriba su consulta:\")\n",
        "    return question"
      ]
    },
    {
      "cell_type": "markdown",
      "metadata": {
        "id": "SnQM6AgJQSuv"
      },
      "source": [
        "### 1.2. Prompt Engineering con ChatGPT"
      ]
    },
    {
      "cell_type": "code",
      "execution_count": 23,
      "metadata": {
        "id": "7g6yUUy9IJI3"
      },
      "outputs": [],
      "source": [
        "def input_format(question, model=\"gpt-3.5-turbo\", temperature=0):\n",
        "\n",
        "    prompt_template = \"\"\"\n",
        "Eres un experto de SQL para una base de datos de registro de vehiculos. Tu tarea es convertir una pregunta de lenguaje natural a una consulta SQL valida.\n",
        "\n",
        "## **ESTRUCTURA DE LA BASE DE DATOS**\n",
        "Nombre del proyecto: 'aiparking-451016'\n",
        "Nombre de la tabla: '00_aiparking.vehiculos'\n",
        "\n",
        "- matricula_id STRING\n",
        "- marca_ds STRING\n",
        "- modelo_ds STRING\n",
        "- color_ds STRING\n",
        "- tipo_vehiculo_id STRING\n",
        "\n",
        "## **TAREA**\n",
        "Responde UNICAMENTE con la consulta en SQL.\n",
        "\n",
        "## **EJEMPLOS**\n",
        "Pregunta: \"Cual es el modelo del vehiculo con la matricula 5489 HEB?\"\n",
        "Respuesta: SELECT modelo_ds FROM `aiparking-451016.00_aiparking.vehiculos` WHERE matricula_id = '5489 HEB';\n",
        "\n",
        "Pregunta: \"Que tipo de vehiculo es el Ford Focus?\"\n",
        "Respuesta: SELECT tipo_vehiculo_id FROM `aiparking-451016.00_aiparking.vehiculos` WHERE marca_ds = 'Ford' AND modelo_ds = 'Focus';\n",
        "\n",
        "## **NUEVA PREGUNTA DEL USUARIO:**\n",
        "\"{question}\"\n",
        "\n",
        "## **RESPUESTA EN SQL:**\n",
        "\"\"\"\n",
        "    prompt = prompt_template.format(question=question)\n",
        "    messages = [{\"role\": \"user\", \"content\": prompt}]\n",
        "    response = client_openai.chat.completions.create(\n",
        "        model=model,\n",
        "        messages=messages,\n",
        "        temperature=temperature,\n",
        "    )\n",
        "\n",
        "    sql_query = response.choices[0].message.content\n",
        "    return sql_query\n"
      ]
    },
    {
      "cell_type": "markdown",
      "metadata": {
        "id": "_pIEf542jcNk"
      },
      "source": [
        "* Ejemplo 1"
      ]
    },
    {
      "cell_type": "code",
      "execution_count": 4,
      "metadata": {
        "id": "LdmzrVsJeKME"
      },
      "outputs": [],
      "source": [
        "question_1 = \"Cuál es el color del coche con matricula 1456LED?\""
      ]
    },
    {
      "cell_type": "code",
      "execution_count": 5,
      "metadata": {
        "colab": {
          "base_uri": "https://localhost:8080/"
        },
        "id": "6t6hIBnwhaMk",
        "outputId": "2caffee6-5984-494d-8472-046d04083765"
      },
      "outputs": [
        {
          "name": "stdout",
          "output_type": "stream",
          "text": [
            "SELECT color_ds FROM `aiparking-451016.00_aiparking.vehiculos` WHERE matricula_id = '1456LED';\n"
          ]
        }
      ],
      "source": [
        "response_1 = input_format(question_1)\n",
        "print(response_1)"
      ]
    },
    {
      "cell_type": "markdown",
      "metadata": {
        "id": "jYAFzzzPQNRm"
      },
      "source": [
        "### 1.3. Acceso a la Database de BigQuery"
      ]
    },
    {
      "cell_type": "code",
      "execution_count": 6,
      "metadata": {
        "id": "dHCTSKfpQZ-R"
      },
      "outputs": [],
      "source": [
        "from google.colab import auth\n",
        "auth.authenticate_user()"
      ]
    },
    {
      "cell_type": "code",
      "execution_count": 7,
      "metadata": {
        "id": "XEfjqrARQjJX"
      },
      "outputs": [],
      "source": [
        "from google.cloud import bigquery\n",
        "\n",
        "# Creamos un cliente de BigQuery\n",
        "client = bigquery.Client(project='aiparking-451016')"
      ]
    },
    {
      "cell_type": "code",
      "execution_count": 8,
      "metadata": {
        "id": "SbiSQt3kQqZw"
      },
      "outputs": [],
      "source": [
        "import pandas as pd\n",
        "\n",
        "def sql_ans(query):\n",
        "\n",
        "      # Consulta SQL\n",
        "      query_job = client.query(query)\n",
        "\n",
        "      results = query_job.result()\n",
        "\n",
        "      # Convertir los resultados a un DataFrame de Pandas\n",
        "      df = results.to_dataframe()\n",
        "\n",
        "      return df"
      ]
    },
    {
      "cell_type": "markdown",
      "metadata": {
        "id": "wSP13cXBRjww"
      },
      "source": [
        "### 1.4. Pipeline"
      ]
    },
    {
      "cell_type": "code",
      "execution_count": 32,
      "metadata": {
        "colab": {
          "base_uri": "https://localhost:8080/"
        },
        "id": "ln_02H6VRmvl",
        "outputId": "ed16f9b1-1edf-4b00-a85a-3cd07c851e37"
      },
      "outputs": [
        {
          "name": "stdout",
          "output_type": "stream",
          "text": [
            "Escriba su consulta:coches de color Gris, Blanco o Azul y que sean de tipo 1\n",
            "  matricula_id marca_ds modelo_ds color_ds tipo_vehiculo_id\n",
            "0      1234MNO                      Blanco                1\n",
            "1      0225KKL    Honda     Civic     Azul                1\n"
          ]
        }
      ],
      "source": [
        "def main(question=None):\n",
        "\n",
        "    # 1. Pregunta del usuario\n",
        "    if question is None:\n",
        "      question = user_input()\n",
        "\n",
        "    # 2. Conversión lenguaje natural a SQL\n",
        "    query = input_format(question=question, model=\"gpt-3.5-turbo\", temperature=0)\n",
        "\n",
        "    # 3. Acceso al Database de BigQuery\n",
        "    answer = sql_ans(query)\n",
        "\n",
        "    # 6. Mostrar la salida\n",
        "    print(answer)\n",
        "\n",
        "    return answer\n",
        "\n",
        "if __name__ == \"__main__\":\n",
        "    main()"
      ]
    }
  ],
  "metadata": {
    "accelerator": "GPU",
    "colab": {
      "gpuType": "T4",
      "provenance": []
    },
    "kernelspec": {
      "display_name": "Python 3",
      "name": "python3"
    },
    "language_info": {
      "name": "python"
    }
  },
  "nbformat": 4,
  "nbformat_minor": 0
}
